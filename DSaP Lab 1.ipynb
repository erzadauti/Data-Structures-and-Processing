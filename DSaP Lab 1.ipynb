{
 "cells": [
  {
   "cell_type": "markdown",
   "id": "e1c2ee7c-5e61-4ea4-914e-4ad1b56cb993",
   "metadata": {
    "nbgrader": {
     "grade": false,
     "grade_id": "cell-ec29fc9019ca542a",
     "locked": true,
     "schema_version": 3,
     "solution": false,
     "task": false
    }
   },
   "source": [
    "# Data Structures and Processing\n",
    "\n",
    "## Week 1: Introduction to Python"
   ]
  },
  {
   "cell_type": "markdown",
   "id": "383617d9-140a-478b-bcba-8c1ed5e6d804",
   "metadata": {
    "nbgrader": {
     "grade": false,
     "grade_id": "cell-0bf739a2261db2a4",
     "locked": true,
     "schema_version": 3,
     "solution": false,
     "task": false
    },
    "tags": []
   },
   "source": [
    "## Name / Variable: First Encounter\n",
    "\n",
    "In many of the programming languages, it is unnecceary to declare the type of an object before declaring it. In addition to that if a name is already in use for an object of certain type, it could be used for an object of another type.  This phenomemon is rephrased as \"dynamically typed language\".\n",
    "\n",
    "Let us consider an example.  We reserve the name `x` for the variable and assign it first and integer and then assign it a string.\n",
    "\n",
    "We are using the `print`function to print the output of a certain evaluation.  Otherwise, the last evaluated result is printed."
   ]
  },
  {
   "cell_type": "code",
   "execution_count": 57,
   "id": "dfc7ae77-fd18-4fda-9ffc-aa9e3c0a0b48",
   "metadata": {
    "editable": true,
    "nbgrader": {
     "grade": false,
     "grade_id": "cell-2166475b94455862",
     "locked": true,
     "schema_version": 3,
     "solution": false,
     "task": false
    },
    "slideshow": {
     "slide_type": ""
    },
    "tags": []
   },
   "outputs": [
    {
     "name": "stdout",
     "output_type": "stream",
     "text": [
      "The value of x:  2\n",
      "The type of x:  <class 'int'>\n",
      "The value of x:  Data Structures and Processing\n",
      "The type of x:  <class 'str'>\n"
     ]
    }
   ],
   "source": [
    "x = 2                        # x is of type int\n",
    "tx = type(x)\n",
    "print(\"The value of x: \", x)\n",
    "print(\"The type of x: \", tx)\n",
    "\n",
    "x = \"Data Structures and Processing\"\n",
    "tx = type(x)\n",
    "print(\"The value of x: \", x)\n",
    "print(\"The type of x: \", tx)"
   ]
  },
  {
   "cell_type": "markdown",
   "id": "e36f9ef5-5b2a-4c8c-8354-3f4302956c28",
   "metadata": {
    "nbgrader": {
     "grade": false,
     "grade_id": "cell-2609950fdbfc186d",
     "locked": true,
     "schema_version": 3,
     "solution": false,
     "task": false
    }
   },
   "source": [
    "### Task\n",
    "\n",
    "Choose a variable name.  Assign it an object of your choice: `int`, `str`, `list`,....  Print your choosen value and its type.  Now assign the same variable a different object and do the same (printing value and its type)."
   ]
  },
  {
   "cell_type": "code",
   "execution_count": 58,
   "id": "4a7b43fa-0654-4407-80bf-f19d59b9c65d",
   "metadata": {
    "editable": true,
    "nbgrader": {
     "grade": true,
     "grade_id": "cell-da7a238e7101d895",
     "locked": false,
     "points": 2,
     "schema_version": 3,
     "solution": true,
     "task": false
    },
    "slideshow": {
     "slide_type": ""
    },
    "tags": []
   },
   "outputs": [
    {
     "name": "stdout",
     "output_type": "stream",
     "text": [
      "Value: 42\n",
      "Type: <class 'int'>\n",
      "Value: Python!\n",
      "Type: <class 'str'>\n",
      "Value: [1, 2, 3, 4, 5]\n",
      "Type: <class 'list'>\n"
     ]
    }
   ],
   "source": [
    "# Assign a variable with an integer value\n",
    "my_var = 42\n",
    "\n",
    "# Print the value and type of the variable\n",
    "print(\"Value:\", my_var)\n",
    "print(\"Type:\", type(my_var))\n",
    "\n",
    "# Assign a variable with a string value\n",
    "my_var = \"Python!\"\n",
    "\n",
    "# Print the value and type of the variable\n",
    "print(\"Value:\", my_var)\n",
    "print(\"Type:\", type(my_var))\n",
    "\n",
    "# Assign a variable with a list value\n",
    "my_var = [1, 2, 3, 4, 5]\n",
    "\n",
    "# Print the value and type of the variable\n",
    "print(\"Value:\", my_var)\n",
    "print(\"Type:\", type(my_var))"
   ]
  },
  {
   "cell_type": "markdown",
   "id": "3f6956ef-7f54-4206-84dc-ef05bb7314e3",
   "metadata": {
    "nbgrader": {
     "grade": false,
     "grade_id": "cell-57450ddda4fb2e9d",
     "locked": true,
     "schema_version": 3,
     "solution": false,
     "task": false
    }
   },
   "source": [
    "## Attributes\n",
    "\n",
    "Recall that objects have attributes. Some of them are callable, and other return some information about the associated object directly.  A helpful function to list all the attributes of an object of a certain class is `dir`.  We use use `dir(x)`, where `x`is the name of the variable whose attributes we want to list, or if we know the class name, we simply type `dir(class_name)`.\n",
    "\n",
    "Let us take an example.\n",
    "\n",
    "We assign a float to variable `x` and list its attributes."
   ]
  },
  {
   "cell_type": "code",
   "execution_count": 59,
   "id": "da9e3fb1-69ea-4499-860c-7c0b58539612",
   "metadata": {
    "nbgrader": {
     "grade": false,
     "grade_id": "cell-4e353d58f7b571aa",
     "locked": true,
     "schema_version": 3,
     "solution": false,
     "task": false
    },
    "scrolled": true
   },
   "outputs": [
    {
     "data": {
      "text/plain": [
       "['__abs__',\n",
       " '__add__',\n",
       " '__bool__',\n",
       " '__ceil__',\n",
       " '__class__',\n",
       " '__delattr__',\n",
       " '__dir__',\n",
       " '__divmod__',\n",
       " '__doc__',\n",
       " '__eq__',\n",
       " '__float__',\n",
       " '__floor__',\n",
       " '__floordiv__',\n",
       " '__format__',\n",
       " '__ge__',\n",
       " '__getattribute__',\n",
       " '__getformat__',\n",
       " '__getnewargs__',\n",
       " '__getstate__',\n",
       " '__gt__',\n",
       " '__hash__',\n",
       " '__init__',\n",
       " '__init_subclass__',\n",
       " '__int__',\n",
       " '__le__',\n",
       " '__lt__',\n",
       " '__mod__',\n",
       " '__mul__',\n",
       " '__ne__',\n",
       " '__neg__',\n",
       " '__new__',\n",
       " '__pos__',\n",
       " '__pow__',\n",
       " '__radd__',\n",
       " '__rdivmod__',\n",
       " '__reduce__',\n",
       " '__reduce_ex__',\n",
       " '__repr__',\n",
       " '__rfloordiv__',\n",
       " '__rmod__',\n",
       " '__rmul__',\n",
       " '__round__',\n",
       " '__rpow__',\n",
       " '__rsub__',\n",
       " '__rtruediv__',\n",
       " '__setattr__',\n",
       " '__sizeof__',\n",
       " '__str__',\n",
       " '__sub__',\n",
       " '__subclasshook__',\n",
       " '__truediv__',\n",
       " '__trunc__',\n",
       " 'as_integer_ratio',\n",
       " 'conjugate',\n",
       " 'fromhex',\n",
       " 'hex',\n",
       " 'imag',\n",
       " 'is_integer',\n",
       " 'real']"
      ]
     },
     "execution_count": 59,
     "metadata": {},
     "output_type": "execute_result"
    }
   ],
   "source": [
    "x = 3.1415\n",
    "dir(x)"
   ]
  },
  {
   "cell_type": "markdown",
   "id": "ee09e56f-ec4f-447e-86d1-182bad9c8681",
   "metadata": {
    "nbgrader": {
     "grade": false,
     "grade_id": "cell-121cf18625297808",
     "locked": true,
     "schema_version": 3,
     "solution": false,
     "task": false
    }
   },
   "source": [
    "Let us say at this point, we have done some work and we are not sure if our variable has integer stored in it or a float.  We see in the above list that there is an attribute `is_integer`.  That sounds promising for our purpose.  So we use it as follows."
   ]
  },
  {
   "cell_type": "code",
   "execution_count": 60,
   "id": "4dc7efed-1391-45e3-a674-94d660aae6e6",
   "metadata": {
    "nbgrader": {
     "grade": false,
     "grade_id": "cell-d46dac14da8a17a4",
     "locked": true,
     "schema_version": 3,
     "solution": false,
     "task": false
    }
   },
   "outputs": [
    {
     "data": {
      "text/plain": [
       "<function float.is_integer()>"
      ]
     },
     "execution_count": 60,
     "metadata": {},
     "output_type": "execute_result"
    }
   ],
   "source": [
    "x.is_integer"
   ]
  },
  {
   "cell_type": "markdown",
   "id": "aa707730-1ef9-46dc-a86b-4a1ff5417f89",
   "metadata": {
    "nbgrader": {
     "grade": false,
     "grade_id": "cell-b609d7c4030ac8b7",
     "locked": true,
     "schema_version": 3,
     "solution": false,
     "task": false
    }
   },
   "source": [
    "The output of above call is not what we wanted.  A Python user of some experience would know what to do at this point.  But we assume that we do not know.  The next step would be to get some help.  Help is called as follows."
   ]
  },
  {
   "cell_type": "code",
   "execution_count": 61,
   "id": "d856bf02-1d47-4305-8663-7042a0b72916",
   "metadata": {
    "nbgrader": {
     "grade": false,
     "grade_id": "cell-c48ae6886130145e",
     "locked": true,
     "schema_version": 3,
     "solution": false,
     "task": false
    }
   },
   "outputs": [
    {
     "name": "stdout",
     "output_type": "stream",
     "text": [
      "Help on built-in function is_integer:\n",
      "\n",
      "is_integer() method of builtins.float instance\n",
      "    Return True if the float is an integer.\n",
      "\n"
     ]
    }
   ],
   "source": [
    "help(x.is_integer)"
   ]
  },
  {
   "cell_type": "markdown",
   "id": "7328652a-0523-4c2e-a987-530a7b4919ab",
   "metadata": {
    "nbgrader": {
     "grade": false,
     "grade_id": "cell-888541a838a718f9",
     "locked": true,
     "schema_version": 3,
     "solution": false,
     "task": false
    }
   },
   "source": [
    "The help suggest that we use it with parenthesis at the end. It is a callable method.  Now let us try one more time."
   ]
  },
  {
   "cell_type": "code",
   "execution_count": 62,
   "id": "240996d9-b695-4ad5-b9ae-f345c56d944a",
   "metadata": {
    "nbgrader": {
     "grade": false,
     "grade_id": "cell-98e738d6713fb21d",
     "locked": true,
     "schema_version": 3,
     "solution": false,
     "task": false
    }
   },
   "outputs": [
    {
     "data": {
      "text/plain": [
       "False"
      ]
     },
     "execution_count": 62,
     "metadata": {},
     "output_type": "execute_result"
    }
   ],
   "source": [
    "x.is_integer()  # It should return False."
   ]
  },
  {
   "cell_type": "markdown",
   "id": "628f557d-5bea-49f4-8b7a-19b5517bb36e",
   "metadata": {
    "nbgrader": {
     "grade": false,
     "grade_id": "cell-c6f41ead7b851fa7",
     "locked": true,
     "schema_version": 3,
     "solution": false,
     "task": false
    }
   },
   "source": [
    "### Task\n",
    "\n",
    "Choose an object of certain type, and expolore attributes associated to its class.  Get help on the use with `help`function."
   ]
  },
  {
   "cell_type": "code",
   "execution_count": 92,
   "id": "d8421d5a-13b8-4c08-9f72-876183174cf9",
   "metadata": {
    "nbgrader": {
     "grade": true,
     "grade_id": "cell-8e89b16d084a2662",
     "locked": false,
     "points": 2,
     "schema_version": 3,
     "solution": true,
     "task": false
    }
   },
   "outputs": [
    {
     "name": "stdout",
     "output_type": "stream",
     "text": [
      "Help on float object:\n",
      "\n",
      "class float(object)\n",
      " |  float(x=0, /)\n",
      " |  \n",
      " |  Convert a string or number to a floating point number, if possible.\n",
      " |  \n",
      " |  Methods defined here:\n",
      " |  \n",
      " |  __abs__(self, /)\n",
      " |      abs(self)\n",
      " |  \n",
      " |  __add__(self, value, /)\n",
      " |      Return self+value.\n",
      " |  \n",
      " |  __bool__(self, /)\n",
      " |      True if self else False\n",
      " |  \n",
      " |  __ceil__(self, /)\n",
      " |      Return the ceiling as an Integral.\n",
      " |  \n",
      " |  __divmod__(self, value, /)\n",
      " |      Return divmod(self, value).\n",
      " |  \n",
      " |  __eq__(self, value, /)\n",
      " |      Return self==value.\n",
      " |  \n",
      " |  __float__(self, /)\n",
      " |      float(self)\n",
      " |  \n",
      " |  __floor__(self, /)\n",
      " |      Return the floor as an Integral.\n",
      " |  \n",
      " |  __floordiv__(self, value, /)\n",
      " |      Return self//value.\n",
      " |  \n",
      " |  __format__(self, format_spec, /)\n",
      " |      Formats the float according to format_spec.\n",
      " |  \n",
      " |  __ge__(self, value, /)\n",
      " |      Return self>=value.\n",
      " |  \n",
      " |  __getattribute__(self, name, /)\n",
      " |      Return getattr(self, name).\n",
      " |  \n",
      " |  __getnewargs__(self, /)\n",
      " |  \n",
      " |  __gt__(self, value, /)\n",
      " |      Return self>value.\n",
      " |  \n",
      " |  __hash__(self, /)\n",
      " |      Return hash(self).\n",
      " |  \n",
      " |  __int__(self, /)\n",
      " |      int(self)\n",
      " |  \n",
      " |  __le__(self, value, /)\n",
      " |      Return self<=value.\n",
      " |  \n",
      " |  __lt__(self, value, /)\n",
      " |      Return self<value.\n",
      " |  \n",
      " |  __mod__(self, value, /)\n",
      " |      Return self%value.\n",
      " |  \n",
      " |  __mul__(self, value, /)\n",
      " |      Return self*value.\n",
      " |  \n",
      " |  __ne__(self, value, /)\n",
      " |      Return self!=value.\n",
      " |  \n",
      " |  __neg__(self, /)\n",
      " |      -self\n",
      " |  \n",
      " |  __pos__(self, /)\n",
      " |      +self\n",
      " |  \n",
      " |  __pow__(self, value, mod=None, /)\n",
      " |      Return pow(self, value, mod).\n",
      " |  \n",
      " |  __radd__(self, value, /)\n",
      " |      Return value+self.\n",
      " |  \n",
      " |  __rdivmod__(self, value, /)\n",
      " |      Return divmod(value, self).\n",
      " |  \n",
      " |  __repr__(self, /)\n",
      " |      Return repr(self).\n",
      " |  \n",
      " |  __rfloordiv__(self, value, /)\n",
      " |      Return value//self.\n",
      " |  \n",
      " |  __rmod__(self, value, /)\n",
      " |      Return value%self.\n",
      " |  \n",
      " |  __rmul__(self, value, /)\n",
      " |      Return value*self.\n",
      " |  \n",
      " |  __round__(self, ndigits=None, /)\n",
      " |      Return the Integral closest to x, rounding half toward even.\n",
      " |      \n",
      " |      When an argument is passed, work like built-in round(x, ndigits).\n",
      " |  \n",
      " |  __rpow__(self, value, mod=None, /)\n",
      " |      Return pow(value, self, mod).\n",
      " |  \n",
      " |  __rsub__(self, value, /)\n",
      " |      Return value-self.\n",
      " |  \n",
      " |  __rtruediv__(self, value, /)\n",
      " |      Return value/self.\n",
      " |  \n",
      " |  __sub__(self, value, /)\n",
      " |      Return self-value.\n",
      " |  \n",
      " |  __truediv__(self, value, /)\n",
      " |      Return self/value.\n",
      " |  \n",
      " |  __trunc__(self, /)\n",
      " |      Return the Integral closest to x between 0 and x.\n",
      " |  \n",
      " |  as_integer_ratio(self, /)\n",
      " |      Return integer ratio.\n",
      " |      \n",
      " |      Return a pair of integers, whose ratio is exactly equal to the original float\n",
      " |      and with a positive denominator.\n",
      " |      \n",
      " |      Raise OverflowError on infinities and a ValueError on NaNs.\n",
      " |      \n",
      " |      >>> (10.0).as_integer_ratio()\n",
      " |      (10, 1)\n",
      " |      >>> (0.0).as_integer_ratio()\n",
      " |      (0, 1)\n",
      " |      >>> (-.25).as_integer_ratio()\n",
      " |      (-1, 4)\n",
      " |  \n",
      " |  conjugate(self, /)\n",
      " |      Return self, the complex conjugate of any float.\n",
      " |  \n",
      " |  hex(self, /)\n",
      " |      Return a hexadecimal representation of a floating-point number.\n",
      " |      \n",
      " |      >>> (-0.1).hex()\n",
      " |      '-0x1.999999999999ap-4'\n",
      " |      >>> 3.14159.hex()\n",
      " |      '0x1.921f9f01b866ep+1'\n",
      " |  \n",
      " |  is_integer(self, /)\n",
      " |      Return True if the float is an integer.\n",
      " |  \n",
      " |  ----------------------------------------------------------------------\n",
      " |  Class methods defined here:\n",
      " |  \n",
      " |  __getformat__(typestr, /) from builtins.type\n",
      " |      You probably don't want to use this function.\n",
      " |      \n",
      " |        typestr\n",
      " |          Must be 'double' or 'float'.\n",
      " |      \n",
      " |      It exists mainly to be used in Python's test suite.\n",
      " |      \n",
      " |      This function returns whichever of 'unknown', 'IEEE, big-endian' or 'IEEE,\n",
      " |      little-endian' best describes the format of floating point numbers used by the\n",
      " |      C type named by typestr.\n",
      " |  \n",
      " |  fromhex(string, /) from builtins.type\n",
      " |      Create a floating-point number from a hexadecimal string.\n",
      " |      \n",
      " |      >>> float.fromhex('0x1.ffffp10')\n",
      " |      2047.984375\n",
      " |      >>> float.fromhex('-0x1p-1074')\n",
      " |      -5e-324\n",
      " |  \n",
      " |  ----------------------------------------------------------------------\n",
      " |  Static methods defined here:\n",
      " |  \n",
      " |  __new__(*args, **kwargs) from builtins.type\n",
      " |      Create and return a new object.  See help(type) for accurate signature.\n",
      " |  \n",
      " |  ----------------------------------------------------------------------\n",
      " |  Data descriptors defined here:\n",
      " |  \n",
      " |  imag\n",
      " |      the imaginary part of a complex number\n",
      " |  \n",
      " |  real\n",
      " |      the real part of a complex number\n",
      "\n"
     ]
    }
   ],
   "source": [
    "x = 3.1415\n",
    "help(x)"
   ]
  },
  {
   "cell_type": "markdown",
   "id": "81d94582-629c-4ace-abfe-8485904338ae",
   "metadata": {
    "nbgrader": {
     "grade": false,
     "grade_id": "cell-3b7210e51a682ef8",
     "locked": true,
     "schema_version": 3,
     "solution": false,
     "task": false
    }
   },
   "source": [
    "## Boolean and Other Special Types\n",
    "\n",
    "Recall that we have covered Boolean and the object `None`.  There are many other special types, and we shall explore them as we move forward. For now, let us recall our knowledge about boolean and its means of combinations.\n",
    "\n",
    "Let us fix `x=True` and `y=False`, and determine the meaning of different combinations."
   ]
  },
  {
   "cell_type": "code",
   "execution_count": 93,
   "id": "45fc333c-1f0f-4a60-bd6c-b66f3c490302",
   "metadata": {
    "nbgrader": {
     "grade": false,
     "grade_id": "cell-5aee68890a3d8995",
     "locked": true,
     "schema_version": 3,
     "solution": false,
     "task": false
    }
   },
   "outputs": [
    {
     "name": "stdout",
     "output_type": "stream",
     "text": [
      "Value of x and y is:  False\n",
      "Value of x or y is:  True\n"
     ]
    }
   ],
   "source": [
    "x = True\n",
    "y = False\n",
    "\n",
    "xandy = x and y\n",
    "xory = x or y\n",
    "\n",
    "print(\"Value of x and y is: \", xandy)\n",
    "print(\"Value of x or y is: \", xory)"
   ]
  },
  {
   "cell_type": "markdown",
   "id": "fe6b945d-c643-44c0-b94b-ef52255aa396",
   "metadata": {
    "nbgrader": {
     "grade": false,
     "grade_id": "cell-f94cd2c7dee3e85c",
     "locked": true,
     "schema_version": 3,
     "solution": false,
     "task": false
    }
   },
   "source": [
    "### Task\n",
    "\n",
    "Recall the De Morgan's law that $(A+B)^\\prime=A^\\prime \\cdot B^\\prime$.  Here $A^\\prime$ is a mathematical notation for the complement of the statement $A$.\n",
    "\n",
    "Assign values to $A$ and $B$ and print the result of the left hand side and the right hand side of the De Morgan's law on separate lines.\n",
    "\n",
    "It is advised that you first try to guess the outcomes before actually evaluating the block to test your understanding of the boolean and their means of combinations."
   ]
  },
  {
   "cell_type": "code",
   "execution_count": 108,
   "id": "92021624-b7e0-400c-91c3-3da6e5f651d1",
   "metadata": {
    "nbgrader": {
     "grade": true,
     "grade_id": "cell-40ddfbe43f3947f9",
     "locked": false,
     "points": 2,
     "schema_version": 3,
     "solution": true,
     "task": false
    }
   },
   "outputs": [
    {
     "name": "stdout",
     "output_type": "stream",
     "text": [
      "Left hand side:  False\n",
      "Right hand side:  False\n"
     ]
    }
   ],
   "source": [
    "# Read the boolean values of A and B\n",
    "A = True\n",
    "B = False\n",
    "\n",
    "# Calculate the left hand side of the De Morgan's law\n",
    "LHS = not (A or B)\n",
    "\n",
    "# Calculate the right hand side of the De Morgan's law\n",
    "RHS = (not A) and (not B)\n",
    "\n",
    "# Print the values of LHS and RHS\n",
    "print(\"Left hand side: \", LHS)\n",
    "print(\"Right hand side: \", RHS)"
   ]
  },
  {
   "cell_type": "markdown",
   "id": "4ca7cd89-7c4f-4522-a9e6-bb9998f1023b",
   "metadata": {
    "nbgrader": {
     "grade": false,
     "grade_id": "cell-6c8bfb76a8aa466e",
     "locked": true,
     "schema_version": 3,
     "solution": false,
     "task": false
    }
   },
   "source": [
    "## Numbers: Integers, Floats, Complex Numbers\n",
    "\n",
    "Recall your knowledge about numbers in Python.\n",
    "\n",
    "### Task\n",
    "\n",
    "1. Choose `x` to be a float and make sure that it has the decimal part.  To make sure that a float is a \"pure\" float or that it has a decimal part, `is_integer` is helpful.  Apply the function `int` on `x` and observe the result.  Explain it to yourself the reason behind the result.\n",
    "\n",
    "2. Choose `x` to be the string \"2.3\" now.  Apply `int` now and observe the result.  Warning: An error will be raised this time.  Explain it to yourself the reason for the error."
   ]
  },
  {
   "cell_type": "markdown",
   "id": "7c34d901-0ac1-4644-a342-0153e70c8ce6",
   "metadata": {
    "nbgrader": {
     "grade": false,
     "grade_id": "cell-e2b616373192b0b2",
     "locked": true,
     "schema_version": 3,
     "solution": false,
     "task": false
    }
   },
   "source": [
    "### Task\n",
    "\n",
    "Let us choose two floats `x=1.2` and `y=2.2`.  If we add the two numbers, we obtain a result different than 3.4.  See below."
   ]
  },
  {
   "cell_type": "code",
   "execution_count": 100,
   "id": "db0b9e28-eb93-4862-a353-354e06c265b2",
   "metadata": {
    "nbgrader": {
     "grade": false,
     "grade_id": "cell-ecefb441690f1858",
     "locked": true,
     "schema_version": 3,
     "solution": false,
     "task": false
    }
   },
   "outputs": [
    {
     "data": {
      "text/plain": [
       "3.4000000000000004"
      ]
     },
     "execution_count": 100,
     "metadata": {},
     "output_type": "execute_result"
    }
   ],
   "source": [
    "x=1.2\n",
    "y=2.2\n",
    "z = x+y\n",
    "z"
   ]
  },
  {
   "cell_type": "markdown",
   "id": "2a6d8079-2598-46a9-b6a8-2d3ec8a1fb37",
   "metadata": {
    "nbgrader": {
     "grade": false,
     "grade_id": "cell-45dd0db519134627",
     "locked": true,
     "schema_version": 3,
     "solution": false,
     "task": false
    }
   },
   "source": [
    "The type `float` has an attribute `hex` that might be helpful in explainging the reason behind not obtaining 3.4. Let us use it as follows"
   ]
  },
  {
   "cell_type": "code",
   "execution_count": 101,
   "id": "ee5a3052-90dc-40c4-a04c-011393b354a5",
   "metadata": {
    "nbgrader": {
     "grade": false,
     "grade_id": "cell-6ea38050953c30eb",
     "locked": true,
     "schema_version": 3,
     "solution": false,
     "task": false
    }
   },
   "outputs": [
    {
     "data": {
      "text/plain": [
       "'0x1.b333333333334p+1'"
      ]
     },
     "execution_count": 101,
     "metadata": {},
     "output_type": "execute_result"
    }
   ],
   "source": [
    "z.hex()"
   ]
  },
  {
   "cell_type": "markdown",
   "id": "8d988dfa-e31b-499d-a19c-d7032523fcb6",
   "metadata": {
    "nbgrader": {
     "grade": false,
     "grade_id": "cell-57665f0b2268c7c8",
     "locked": true,
     "schema_version": 3,
     "solution": false,
     "task": false
    }
   },
   "source": [
    "The returned result is a `hex` (in base 16) representation of the sum of `x` and `y`.  It might be cryptic at this point, but let us see how we can manually obtain the number in decimal from it. On the left hand side of the decimal in `0x1.b333333333334p+1`, we have the integer 1, and on the right hand side, we have `b`(stands for 11), and then many 3.  At the end we have the exponent `+1`.  The individual integers on the left side of the decimal are multiplied with nonnegative powers of 16 (starting with the power 0 and increasing towards left), and those on the right hand side of the decimal are multiplied with the negative powers of 16 (starting with -1 and decreasing towards right).  All the multiplied factors are then summed and the resulting sum is multiplied with 16 raised to the power the exponent in `0x1.b333333333334p+1`.\n",
    "\n",
    "In the following cell, perform the above computation."
   ]
  },
  {
   "cell_type": "markdown",
   "id": "73be2c09-4e04-488b-a247-4d023f567635",
   "metadata": {
    "nbgrader": {
     "grade": false,
     "grade_id": "cell-59930c0e14985a64",
     "locked": true,
     "schema_version": 3,
     "solution": false,
     "task": false
    }
   },
   "source": [
    "### Task\n",
    "\n",
    "Consider complex number `x=1.2+2.3j`. Find them using`abs`, `real` and `imag`.\n",
    "\n",
    "1. absolute value of `x`.\n",
    "2. obtain real part of `x`.\n",
    "3. obtain real part of `x`."
   ]
  },
  {
   "cell_type": "code",
   "execution_count": 109,
   "id": "55ab6de9-6d92-4f1e-a69c-41132164b917",
   "metadata": {
    "nbgrader": {
     "grade": true,
     "grade_id": "cell-11095b117bb82a1b",
     "locked": false,
     "points": 2,
     "schema_version": 3,
     "solution": true,
     "task": false
    }
   },
   "outputs": [
    {
     "name": "stdout",
     "output_type": "stream",
     "text": [
      "Absolute value of x: 2.5942243542145693\n",
      "Real part of x: 1.2\n",
      "Imaginary part of x: 2.3\n"
     ]
    }
   ],
   "source": [
    "# Define the complex number x\n",
    "x = 1.2 + 2.3j\n",
    "\n",
    "# Compute the absolute value of x\n",
    "abs_x = abs(x)\n",
    "\n",
    "# Obtain the real part of x\n",
    "real_part_x = x.real\n",
    "\n",
    "# Obtain the imaginary part of x\n",
    "imaginary_part_x = x.imag\n",
    "\n",
    "# Print the results\n",
    "print(\"Absolute value of x:\", abs_x)\n",
    "print(\"Real part of x:\", real_part_x)\n",
    "print(\"Imaginary part of x:\", imaginary_part_x)\n"
   ]
  },
  {
   "cell_type": "markdown",
   "id": "81af7c9d-d0ba-4187-bd07-75b49b39c243",
   "metadata": {
    "nbgrader": {
     "grade": false,
     "grade_id": "cell-0f61b11303c71e8d",
     "locked": true,
     "schema_version": 3,
     "solution": false,
     "task": false
    }
   },
   "source": [
    "### Task\n",
    "\n",
    "We want to assign the complex number with real part 1.2 and imaginary part 2.3 to a variable `x`.  Which of the following does not give error?  Try one your console or the evaluation block below.\n",
    "\n",
    "1. `x= 1.2 + j2.3`\n",
    "2. `x= 1.2 + 2.3 j`\n",
    "3. `x= 1.2 + 2.3j`"
   ]
  },
  {
   "cell_type": "code",
   "execution_count": 118,
   "id": "406afd93-e486-4871-a908-1d52f110e840",
   "metadata": {
    "nbgrader": {
     "grade": true,
     "grade_id": "cell-2ddc09869ce6c596",
     "locked": false,
     "points": 2,
     "schema_version": 3,
     "solution": true,
     "task": false
    }
   },
   "outputs": [
    {
     "name": "stdout",
     "output_type": "stream",
     "text": [
      "(1.2+2.3j)\n"
     ]
    }
   ],
   "source": [
    "# Option 1\n",
    "# x = 1.2 + j2.3  This will result in an error because the imaginary unit 'j' is not correctly formatted\n",
    "\n",
    "# Option 2\n",
    "#x = 1.2 + 2.3 j   This will result in an error because there's a space between the real part and the imaginary unit 'j'\n",
    "\n",
    "# Option 3\n",
    "x = 1.2 + 2.3j  # This one follows the correct syntax for representing a complex number\n",
    "\n",
    "print(x)\n"
   ]
  },
  {
   "cell_type": "markdown",
   "id": "d8c6fda4-a12f-443b-8025-b00f125bac18",
   "metadata": {
    "nbgrader": {
     "grade": false,
     "grade_id": "cell-ab71f00f359fde99",
     "locked": true,
     "schema_version": 3,
     "solution": false,
     "task": false
    }
   },
   "source": [
    "## Strings\n",
    "\n",
    "### Task\n",
    "\n",
    "We want to prepare an email.  Here is a way using strings."
   ]
  },
  {
   "cell_type": "code",
   "execution_count": 119,
   "id": "9a70c374-d678-4f17-aed2-6765fce3693e",
   "metadata": {
    "nbgrader": {
     "grade": false,
     "grade_id": "cell-9d9f2bb439844584",
     "locked": true,
     "schema_version": 3,
     "solution": false,
     "task": false
    }
   },
   "outputs": [
    {
     "name": "stdout",
     "output_type": "stream",
     "text": [
      "Dear John\n",
      "\n",
      "Thanks for approaching. I'll get back to you as soon as possible after solving this task.\n",
      "\n",
      "Best regards,\n",
      "\n",
      "XYZ\n"
     ]
    }
   ],
   "source": [
    "e_greeting=\"Dear \"\n",
    "e_to= \"John\"\n",
    "newline =\"\"\"\n",
    "\"\"\"\n",
    "e_text = \"Thanks for approaching. I'll get back to you as soon as possible after solving this task.\"\n",
    "e_end = \"Best regards,\"\n",
    "e_from = \"XYZ\"\n",
    "\n",
    "email_body = e_greeting + e_to + 2*newline + e_text + 2*newline + e_end + 2*newline + e_from\n",
    "\n",
    "print(email_body)"
   ]
  },
  {
   "cell_type": "markdown",
   "id": "c0e431bc-8406-43e7-ba6a-5321234462e4",
   "metadata": {
    "nbgrader": {
     "grade": false,
     "grade_id": "cell-f93bcd62b1a128a1",
     "locked": true,
     "schema_version": 3,
     "solution": false,
     "task": false
    }
   },
   "source": [
    "Your task is to\n",
    "\n",
    "1. change the name from `\"John\"` to `\"Mike\"`\n",
    "2. remove the substring \"Thanks for approaching\".\n",
    "3. change the `XYZ` to some name.\n",
    "4. print the email using `print` function while making sure that there are two new lines between lines except between the last two lines."
   ]
  },
  {
   "cell_type": "code",
   "execution_count": 125,
   "id": "2a60bceb-f43c-4853-8f85-3b8692c4de50",
   "metadata": {
    "nbgrader": {
     "grade": true,
     "grade_id": "cell-74197e65fd0267ed",
     "locked": false,
     "points": 4,
     "schema_version": 3,
     "solution": true,
     "task": false
    }
   },
   "outputs": [
    {
     "name": "stdout",
     "output_type": "stream",
     "text": [
      "Dear Mike\n",
      "\n",
      "I'll get back to you as soon as possible after solving this task.\n",
      "\n",
      "Best regards,\n",
      "Lisa\n"
     ]
    }
   ],
   "source": [
    "# Modify the email body\n",
    "e_greeting=\"Dear \"\n",
    "e_to = \"Mike\"\n",
    "e_text = \"I'll get back to you as soon as possible after solving this task.\"\n",
    "e_from = \"Lisa\"\n",
    "\n",
    "# Update the email body with the modified content\n",
    "email_body = e_greeting + e_to + 2*newline + e_text + 2*newline + e_end + newline + e_from\n",
    "\n",
    "# Print the modified email body\n",
    "print(email_body)\n"
   ]
  },
  {
   "cell_type": "markdown",
   "id": "a1ee7a69-b791-40ca-a483-92faf52a573e",
   "metadata": {
    "nbgrader": {
     "grade": false,
     "grade_id": "cell-84567bbdd6660280",
     "locked": true,
     "schema_version": 3,
     "solution": false,
     "task": false
    }
   },
   "source": [
    "## Lists and Tuples\n"
   ]
  },
  {
   "cell_type": "markdown",
   "id": "de4c90b6-1c27-4489-b491-f9034713fd2c",
   "metadata": {
    "nbgrader": {
     "grade": false,
     "grade_id": "cell-a6967f8ccbab5a85",
     "locked": true,
     "schema_version": 3,
     "solution": false,
     "task": false
    }
   },
   "source": [
    "### Task\n",
    "\n",
    "Let us consider the sentence \"This sentence is false\", and assign it as a string to a variable `x`.  After that, we split `x` using a string method and notice that a list is returned.  See below"
   ]
  },
  {
   "cell_type": "code",
   "execution_count": 126,
   "id": "50f50f89-db9a-45d9-b92a-7644a6660e1e",
   "metadata": {
    "nbgrader": {
     "grade": false,
     "grade_id": "cell-0ca87b8addffa2c5",
     "locked": true,
     "schema_version": 3,
     "solution": false,
     "task": false
    }
   },
   "outputs": [
    {
     "data": {
      "text/plain": [
       "['false.', 'is', 'sentence', 'This']"
      ]
     },
     "execution_count": 126,
     "metadata": {},
     "output_type": "execute_result"
    }
   ],
   "source": [
    "x = \"This sentence is false.\"\n",
    "l = x.split(\" \")\n",
    "l.reverse()\n",
    "l"
   ]
  },
  {
   "cell_type": "markdown",
   "id": "43a95994-3096-497a-b3e1-457e35db9ba6",
   "metadata": {
    "nbgrader": {
     "grade": false,
     "grade_id": "cell-8a478f5900961a2d",
     "locked": true,
     "schema_version": 3,
     "solution": false,
     "task": false
    }
   },
   "source": [
    "Your task is to\n",
    "1. reverse the list using the callable method `reverse`. See it in `dir(list)`.\n",
    "2. change the first element of the list to capitalized version and remove . (period) from it.\n",
    "3. make the last element in the list a lower case word.\n",
    "4. use `\" \".join(l)` to join the list `l` into a single string.\n",
    "5. print the result."
   ]
  },
  {
   "cell_type": "code",
   "execution_count": 128,
   "id": "96af832e-9b48-4f85-b44e-02e34625f545",
   "metadata": {
    "nbgrader": {
     "grade": false,
     "grade_id": "cell-7d134ca941a8fd0f",
     "locked": true,
     "points": 5,
     "schema_version": 3,
     "solution": false,
     "task": true
    }
   },
   "outputs": [
    {
     "name": "stdout",
     "output_type": "stream",
     "text": [
      "False is sentence this\n"
     ]
    }
   ],
   "source": [
    "# Assign the string to a variable x\n",
    "x = \"This sentence is false.\"\n",
    "\n",
    "# Split the string into a list of words\n",
    "l = x.split(\" \")\n",
    "\n",
    "# Reverse the list\n",
    "l.reverse()\n",
    "\n",
    "# Capitalize the first word and remove the period\n",
    "l[0] = l[0].capitalize().rstrip(\".\")\n",
    "\n",
    "# Make the last word lowercase\n",
    "l[-1] = l[-1].lower()\n",
    "\n",
    "# Join the list back into a single string\n",
    "result = \" \".join(l)\n",
    "\n",
    "# Print the result\n",
    "print(result)\n"
   ]
  },
  {
   "cell_type": "markdown",
   "id": "b924a650-bc88-4268-9207-9aff01d3d610",
   "metadata": {
    "nbgrader": {
     "grade": false,
     "grade_id": "cell-6e9a67fbaaa6a55b",
     "locked": true,
     "schema_version": 3,
     "solution": false,
     "task": false
    }
   },
   "source": [
    "### Task\n",
    "\n",
    "Recall thatlists are mutable objects, but tuples are not.  This means that the elements within a list can be changed but the elements in a tuples cannot be changed.\n",
    "\n",
    "Consider now `x = (1,2,[3,4])`.  Is it possible to change 4 to something else?  Why or why not?"
   ]
  },
  {
   "cell_type": "code",
   "execution_count": 130,
   "id": "f4d21de5-f9db-4f7d-8874-ca96ac0019c2",
   "metadata": {
    "nbgrader": {
     "grade": false,
     "grade_id": "cell-e2080daef3b6433a",
     "locked": true,
     "points": 2,
     "schema_version": 3,
     "solution": false,
     "task": true
    }
   },
   "outputs": [
    {
     "name": "stdout",
     "output_type": "stream",
     "text": [
      "(1, 2, [3, 6])\n"
     ]
    }
   ],
   "source": [
    "# No, it is not possible to change 4 to something else in the tuple x = (1,2,[3,4]).\n",
    "#The reason is that the mutable object [3,4] is only a part of the tuple, not the whole tuple itself.\n",
    "#Although we can change the value of the elements inside the list [3,4], we cannot change the reference of the list itself.\n",
    "\n",
    "# If we modify the elements of the list instead, it will not produce an error:\n",
    "x = (1,2,[3,4])\n",
    "x[2][1] = 6\n",
    "print(x)"
   ]
  },
  {
   "cell_type": "markdown",
   "id": "7be39615-2a60-4faa-83d9-a5a7e2a2a619",
   "metadata": {
    "nbgrader": {
     "grade": false,
     "grade_id": "cell-2d59ebd53a1eceda",
     "locked": true,
     "schema_version": 3,
     "solution": false,
     "task": false
    }
   },
   "source": [
    "## Dictionaries\n",
    "\n",
    "### Task\n",
    "\n",
    "Let us make a small database.  You can use it for personal use.\n",
    "\n",
    "Let `biblio` be a list of books and articles that you are interested in.  At the beginning the list is empty.  We intend to put in this list dictionaries.  The dictionaries are actual records.  See below for an example.\n",
    "\n",
    "The key `authors` is a list of authors.  This is practical because some items might have multiple authors.\n"
   ]
  },
  {
   "cell_type": "code",
   "execution_count": 134,
   "id": "a60ef59c-9ea5-41a0-bdec-58e235b1c1e2",
   "metadata": {
    "nbgrader": {
     "grade": false,
     "grade_id": "cell-2c7ba9d44e7aeefe",
     "locked": true,
     "schema_version": 3,
     "solution": false,
     "task": false
    }
   },
   "outputs": [],
   "source": [
    "biblio = []                      # empty bibliography, for now\n",
    "\n",
    "biblio = [ {\"id\": \"skiena2017data\",\n",
    "            \"title\": \"The data science design manual\",\n",
    "            \"authors\": [\"Steven Skiena\"],\n",
    "            \"year\": 2017,\n",
    "            \"publisher\": \"Springer\"}\n",
    "         ]"
   ]
  },
  {
   "cell_type": "markdown",
   "id": "9c99367e-b2f6-4946-93b3-199d9fbf7163",
   "metadata": {
    "nbgrader": {
     "grade": false,
     "grade_id": "cell-74522369aea1552e",
     "locked": true,
     "schema_version": 3,
     "solution": false,
     "task": false
    }
   },
   "source": [
    "Your task is to \n",
    "1. add a new record to `biblio` of your choice.\n",
    "2. add a new record to `biblio` with multiple authors.\n",
    "3. remove the record with `id` `skiena2017data`.\n",
    "4. print the record that you have added in task 2 above in the format \"[authors]: [title], [publisher], [year].\""
   ]
  },
  {
   "cell_type": "code",
   "execution_count": 136,
   "id": "49f49240-17f1-4fe8-befe-a0ca86a65983",
   "metadata": {
    "nbgrader": {
     "grade": false,
     "grade_id": "cell-4debb1b89ea5d4ce",
     "locked": true,
     "points": 4,
     "schema_version": 3,
     "solution": false,
     "task": true
    }
   },
   "outputs": [
    {
     "name": "stdout",
     "output_type": "stream",
     "text": [
      "Jonathan Kellerman , Jesse Kellerman: Crime Scene, Publisher ABC, 2021.\n"
     ]
    }
   ],
   "source": [
    "biblio = []  # empty bibliography, for now\n",
    "\n",
    "# Add a new record to biblio\n",
    "new_record = {\n",
    "    \"id\": \"new_record\",\n",
    "    \"title\": \"Harry Potter\",\n",
    "    \"authors\": [\"J.K Rowling\"],\n",
    "    \"year\": 2022,\n",
    "    \"publisher\": \"Publisher XYZ\"\n",
    "}\n",
    "biblio.append(new_record)\n",
    "\n",
    "# Add a new record to biblio with multiple authors\n",
    "new_record = {\n",
    "    \"id\": \"new_record2\",\n",
    "    \"title\": \"Crime Scene\",\n",
    "    \"authors\": [\"Jonathan Kellerman \",\"Jesse Kellerman\"],\n",
    "    \"year\": 2021, \n",
    "    \"publisher\": \"Publisher ABC\"\n",
    "}\n",
    "biblio.append(new_record)\n",
    "\n",
    "# Remove the record with id skiena2017data\n",
    "biblio = [book for book in biblio if book['id'] != 'skiena2017data']\n",
    "\n",
    "# Print the record that you have added in task 2 above in the required format\n",
    "record_to_print = next(book for book in biblio if book['id'] == 'new_record2')\n",
    "authors = ', '.join(record_to_print['authors'])\n",
    "print(f\"{authors}: {record_to_print['title']}, {record_to_print['publisher']}, {record_to_print['year']}.\")\n"
   ]
  },
  {
   "cell_type": "markdown",
   "id": "b7349ea7-4c0a-4640-b469-aa50a01eabd2",
   "metadata": {
    "nbgrader": {
     "grade": false,
     "grade_id": "cell-c36b97cea68acd68",
     "locked": true,
     "schema_version": 3,
     "solution": false,
     "task": false
    }
   },
   "source": [
    "# Final Remark\n",
    "\n",
    "There are a lot of subtopics that we are not covering.  We shall come back to them as we progress and use them implicitely. For now, it is a good point to finish practice for the first week.  You are encouraged to explore the topics or subtopics in builtin data structures you found interesting to see what you can build with them."
   ]
  }
 ],
 "metadata": {
  "kernelspec": {
   "display_name": "Python 3 (ipykernel)",
   "language": "python",
   "name": "python3"
  },
  "language_info": {
   "codemirror_mode": {
    "name": "ipython",
    "version": 3
   },
   "file_extension": ".py",
   "mimetype": "text/x-python",
   "name": "python",
   "nbconvert_exporter": "python",
   "pygments_lexer": "ipython3",
   "version": "3.11.7"
  },
  "toc-autonumbering": false,
  "toc-showcode": false,
  "toc-showmarkdowntxt": false
 },
 "nbformat": 4,
 "nbformat_minor": 5
}
