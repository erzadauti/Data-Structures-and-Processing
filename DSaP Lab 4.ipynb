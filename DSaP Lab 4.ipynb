{
 "cells": [
  {
   "cell_type": "markdown",
   "id": "9578795f-723e-46cc-b7f4-faed37e6858e",
   "metadata": {
    "nbgrader": {
     "grade": false,
     "grade_id": "cell-4a1b3b6fe8710aa6",
     "locked": true,
     "schema_version": 3,
     "solution": false,
     "task": false
    }
   },
   "source": [
    "# Data Structures and Processing\n",
    "\n",
    "## Week 5: Introduction to Pandas"
   ]
  },
  {
   "cell_type": "markdown",
   "id": "e8b4d83d-aafa-4503-822b-25a9e318163f",
   "metadata": {
    "nbgrader": {
     "grade": false,
     "grade_id": "cell-6f3a04066a25376b",
     "locked": true,
     "schema_version": 3,
     "solution": false,
     "task": false
    }
   },
   "source": [
    "### Remarks:\n",
    "\n",
    "1. Press the `install requirements` button above to install the required packages.  See the `requirements.txt` for list of packages to be installed.\n",
    "\n",
    "2. Make sure that you are following the conventions.  For examples, `import pandas as pd`, which imports pandas packages and sets the abbreviation for it.\n",
    "\n",
    "3. Do not import the packages without the short names.  Doing so might lead to a namespace conflict, or unintended uses of functions coming from two libraries as a part of different implementations."
   ]
  },
  {
   "cell_type": "markdown",
   "id": "b1aa9048-bfc7-4ee0-af22-fb0d78606569",
   "metadata": {
    "nbgrader": {
     "grade": false,
     "grade_id": "cell-f539bbadda2d5ac1",
     "locked": true,
     "schema_version": 3,
     "solution": false,
     "task": false
    }
   },
   "source": [
    "### Load Libraries"
   ]
  },
  {
   "cell_type": "code",
   "execution_count": 1,
   "id": "2512a105-8759-4def-90bd-37977472539a",
   "metadata": {
    "nbgrader": {
     "grade": false,
     "grade_id": "cell-7c31d2351da86500",
     "locked": true,
     "schema_version": 3,
     "solution": false,
     "task": false
    }
   },
   "outputs": [],
   "source": [
    "import numpy as np\n",
    "import pandas as pd"
   ]
  },
  {
   "cell_type": "markdown",
   "id": "8b1ac47b-88e7-4815-b2d4-ee3d68293fad",
   "metadata": {
    "nbgrader": {
     "grade": false,
     "grade_id": "cell-80f968b6313de10e",
     "locked": true,
     "schema_version": 3,
     "solution": false,
     "task": false
    }
   },
   "source": [
    "### Task 1\n",
    "\n",
    "Pandas provide the function `pd.read_csv` that takes name of the file (a string) as an argument. In this case, it is assumed that you want to read a comma-separated-file (a file, where fields are separated by a single character \",\"). If it is the case that the fields are separated by a different character than \",\", then an additional named argument `sep` could be provided. It is also common to have a TAB character as a separation, or a semi-colon \";\" as a separator.\n",
    "\n",
    "Consider the file `imdb_ratings.tsv` (tab-separated-file) in the working directory and load it into the variable `df`."
   ]
  },
  {
   "cell_type": "code",
   "execution_count": 2,
   "id": "0ac907d5-5cfa-4dc7-bc79-0699a31ba4f3",
   "metadata": {
    "nbgrader": {
     "grade": false,
     "grade_id": "cell-f9602f767e29967e",
     "locked": false,
     "schema_version": 3,
     "solution": true,
     "task": false
    }
   },
   "outputs": [
    {
     "name": "stdout",
     "output_type": "stream",
     "text": [
      "   stars_rating                  title     rating      genre  duration  \\\n",
      "0           7.7                 Zodiac          R      Crime       157   \n",
      "1           8.2           Mary and Max  NOT RATED  Animation        92   \n",
      "2           7.7          The Producers         PG     Comedy        88   \n",
      "3           8.6          Spirited Away         PG  Animation       125   \n",
      "4           7.4  The NeverEnding Story         PG  Adventure       102   \n",
      "\n",
      "                                              actors  \n",
      "0  {\"Jake Gyllenhaal\", \"Robert Downey Jr.\", \"Mark...  \n",
      "1  {\"Toni Collette\", \"Philip Seymour Hoffman\", \"E...  \n",
      "2       {\"Zero Mostel\", \"Gene Wilder\", \"Dick Shawn\"}  \n",
      "3  {\"Daveigh Chase\", \"Suzanne Pleshette\", \"Miyu I...  \n",
      "4  {\"Noah Hathaway\", \"Barret Oliver\", \"Tami Stron...  \n"
     ]
    }
   ],
   "source": [
    "# Your solution goes here. Replace None with your solution\n",
    "import pandas as pd\n",
    "\n",
    "# Load the imdb_ratings.tsv file into a Pandas DataFrame\n",
    "df = pd.read_csv('imdb_ratings.tsv', sep='\\t')\n",
    "\n",
    "# Print the first 5 rows of the DataFrame\n",
    "print(df.head())"
   ]
  },
  {
   "cell_type": "markdown",
   "id": "739dc213-9b66-4f58-991d-43c77300c09d",
   "metadata": {
    "nbgrader": {
     "grade": false,
     "grade_id": "cell-d657a0157456459b",
     "locked": true,
     "schema_version": 3,
     "solution": false,
     "task": false
    }
   },
   "source": [
    "### Task 2\n",
    "\n",
    "As a next step, we could like to have a look at the contents of the data imported into `df`. For this, a useful method is `head()`, which looks at first few lines. An integer could be provided to the method `head(n)`, in which case, only first `n` lines are returned. Another useful method is `tail()`, which works exactly like the method `head()`, and it returns last few lines.\n",
    "\n",
    "An important note here is that the object returned by the application of the methods `head()` or `tail()` is also a DataFrame.\n",
    "\n",
    "Assign the object to `df_head_10`, which is returned by using `head()` and focus on the first 10 lines."
   ]
  },
  {
   "cell_type": "code",
   "execution_count": 3,
   "id": "cd533957-8688-4dc1-84dc-0dc20768977d",
   "metadata": {
    "nbgrader": {
     "grade": false,
     "grade_id": "cell-8cb6a773c081864c",
     "locked": false,
     "schema_version": 3,
     "solution": true,
     "task": false
    }
   },
   "outputs": [
    {
     "name": "stdout",
     "output_type": "stream",
     "text": [
      "   stars_rating                  title     rating      genre  duration  \\\n",
      "0           7.7                 Zodiac          R      Crime       157   \n",
      "1           8.2           Mary and Max  NOT RATED  Animation        92   \n",
      "2           7.7          The Producers         PG     Comedy        88   \n",
      "3           8.6          Spirited Away         PG  Animation       125   \n",
      "4           7.4  The NeverEnding Story         PG  Adventure       102   \n",
      "5           8.7            City of God          R      Crime       130   \n",
      "6           8.4                The Kid  NOT RATED     Comedy        68   \n",
      "7           8.2            Gran Torino          R      Drama       116   \n",
      "8           7.8             Changeling          R      Drama       141   \n",
      "9           8.0             Persepolis      PG-13  Animation        96   \n",
      "\n",
      "                                              actors  \n",
      "0  {\"Jake Gyllenhaal\", \"Robert Downey Jr.\", \"Mark...  \n",
      "1  {\"Toni Collette\", \"Philip Seymour Hoffman\", \"E...  \n",
      "2       {\"Zero Mostel\", \"Gene Wilder\", \"Dick Shawn\"}  \n",
      "3  {\"Daveigh Chase\", \"Suzanne Pleshette\", \"Miyu I...  \n",
      "4  {\"Noah Hathaway\", \"Barret Oliver\", \"Tami Stron...  \n",
      "5  {\"Alexandre Rodrigues\", \"Matheus Nachtergaele\"...  \n",
      "6  {\"Charles Chaplin\", \"Edna Purviance\", \"Jackie ...  \n",
      "7  {\"Clint Eastwood\", \"Bee Vang\", \"Christopher Ca...  \n",
      "8       {\"Angelina Jolie\", \"Colm Feore\", \"Amy Ryan\"}  \n",
      "9  {\"Chiara Mastroianni\", \"Catherine Deneuve\", \"G...  \n"
     ]
    }
   ],
   "source": [
    "# Your solution goes here. Replace None with your solution\n",
    "import pandas as pd\n",
    "\n",
    "# Read the imdb_ratings.tsv file into a Pandas DataFrame\n",
    "df = pd.read_csv('imdb_ratings.tsv', sep='\\t')\n",
    "\n",
    "# Use the head() method to view the first 10 lines of the DataFrame\n",
    "df_head_10 = df.head(10)\n",
    "\n",
    "# Print the DataFrame\n",
    "print(df_head_10)"
   ]
  },
  {
   "cell_type": "markdown",
   "id": "13386d49-e414-46de-9236-b462bf1ec4d4",
   "metadata": {
    "nbgrader": {
     "grade": false,
     "grade_id": "cell-60f55185edd03e98",
     "locked": true,
     "schema_version": 3,
     "solution": false,
     "task": false
    }
   },
   "source": [
    "### Task 3\n",
    "\n",
    "At this point, your probably must have noticed that, the tabular data in `df` contains 6 columns, and hundreds of rows. The types of the columns are either strings or numbers (numpy integers or numpy floats). Notice that the column containing actors \"looks\" like a Python's builtin data type `set`. But pandas, knows it only as a string. We could leave it like this, but the data presentation could be improved, by identifying the actors as not strings but as a set of strings (the actors). We could have the list of actors, but having set should work fine, as it is not important what actor appears where in the list.\n",
    "\n",
    "Let us improve `df`, to make sure that the last column contains sets and not strings."
   ]
  },
  {
   "cell_type": "code",
   "execution_count": 4,
   "id": "16b36de3-dd32-4d3b-96c2-c3ed5d449289",
   "metadata": {
    "nbgrader": {
     "grade": false,
     "grade_id": "cell-0cd1996e9cdc2bf1",
     "locked": false,
     "schema_version": 3,
     "solution": true,
     "task": false
    }
   },
   "outputs": [
    {
     "name": "stdout",
     "output_type": "stream",
     "text": [
      "   stars_rating                  title     rating      genre  duration  \\\n",
      "0           7.7                 Zodiac          R      Crime       157   \n",
      "1           8.2           Mary and Max  NOT RATED  Animation        92   \n",
      "2           7.7          The Producers         PG     Comedy        88   \n",
      "3           8.6          Spirited Away         PG  Animation       125   \n",
      "4           7.4  The NeverEnding Story         PG  Adventure       102   \n",
      "\n",
      "                                              actors  \n",
      "0  {Robert Downey Jr., Mark Ruffalo, Jake Gyllenh...  \n",
      "1  {Eric Bana, Philip Seymour Hoffman, Toni Colle...  \n",
      "2             {Zero Mostel, Dick Shawn, Gene Wilder}  \n",
      "3     {Suzanne Pleshette, Daveigh Chase, Miyu Irino}  \n",
      "4      {Tami Stronach, Barret Oliver, Noah Hathaway}  \n"
     ]
    }
   ],
   "source": [
    "# Your solution goes here. Replace None with your solution\n",
    "import pandas as pd\n",
    "import numpy as np\n",
    "\n",
    "# Read the imdb_ratings.tsv file into a Pandas DataFrame\n",
    "df = pd.read_csv('imdb_ratings.tsv', sep='\\t', converters={'actors': eval})\n",
    "\n",
    "# Print the DataFrame\n",
    "print(df.head())"
   ]
  },
  {
   "cell_type": "markdown",
   "id": "1a9046ed-3c45-458b-b97c-6d3af2c9c6ce",
   "metadata": {
    "nbgrader": {
     "grade": false,
     "grade_id": "cell-6bbfc309e8ba800b",
     "locked": true,
     "schema_version": 3,
     "solution": false,
     "task": false
    }
   },
   "source": [
    "### Task 4\n",
    "\n",
    "Notice that the data is not sorted at all with respect to any column. We would like to sort `df` with respect to the column `stars_rating`. In order to do that we use the method `sort_values()` with the named arguments `by` and `ascending=False`. The argument `by` takes the column name with respect to which, we want to sort the data frame.\n",
    "\n",
    "Notice that the application of the method `sort_values()` does not modify the original variable, but it returns a new data frame.\n",
    "\n",
    "Assign the sorted form of `df` with respect to the column `stars_rating`and assign the returned data frame to the variable `df_sorted`."
   ]
  },
  {
   "cell_type": "code",
   "execution_count": 5,
   "id": "99f69722-a333-4afc-8388-150efe4b596e",
   "metadata": {
    "nbgrader": {
     "grade": false,
     "grade_id": "cell-12ca0f583d04606c",
     "locked": false,
     "schema_version": 3,
     "solution": true,
     "task": false
    }
   },
   "outputs": [
    {
     "name": "stdout",
     "output_type": "stream",
     "text": [
      "     stars_rating                                          title rating  \\\n",
      "716           9.3                       The Shawshank Redemption      R   \n",
      "167           9.2                                  The Godfather      R   \n",
      "954           9.1                         The Godfather: Part II      R   \n",
      "187           9.0                                The Dark Knight  PG-13   \n",
      "179           8.9  The Lord of the Rings: The Return of the King  PG-13   \n",
      "..            ...                                            ...    ...   \n",
      "156           7.4                                       The Rock      R   \n",
      "724           7.4                                Man on the Moon      R   \n",
      "158           7.4                               The Way Way Back  PG-13   \n",
      "603           7.4                                    Beetlejuice     PG   \n",
      "882           7.4                            Alice in Wonderland      G   \n",
      "\n",
      "         genre  duration                                             actors  \n",
      "716      Crime       142    {\"Tim Robbins\", \"Morgan Freeman\", \"Bob Gunton\"}  \n",
      "167      Crime       175       {\"Marlon Brando\", \"Al Pacino\", \"James Caan\"}  \n",
      "954      Crime       200   {\"Al Pacino\", \"Robert De Niro\", \"Robert Duvall\"}  \n",
      "187     Action       152  {\"Christian Bale\", \"Heath Ledger\", \"Aaron Eckh...  \n",
      "179  Adventure       201  {\"Elijah Wood\", \"Viggo Mortensen\", \"Ian McKell...  \n",
      "..         ...       ...                                                ...  \n",
      "156     Action       136      {\"Sean Connery\", \"Nicolas Cage\", \"Ed Harris\"}  \n",
      "724  Biography       118     {\"Jim Carrey\", \"Danny DeVito\", \"Gerry Becker\"}  \n",
      "158     Comedy       103  {\"Steve Carell\", \"Toni Collette\", \"Allison Jan...  \n",
      "603     Comedy        92  {\"Alec Baldwin\", \"Geena Davis\", \"Michael Keaton\"}  \n",
      "882  Animation        75   {\"Kathryn Beaumont\", \"Ed Wynn\", \"Richard Haydn\"}  \n",
      "\n",
      "[979 rows x 6 columns]\n"
     ]
    }
   ],
   "source": [
    "# Your solution goes here. Replace None with your solution\n",
    "import pandas as pd\n",
    "\n",
    "# Load the imdb_ratings.tsv file into a Pandas DataFrame\n",
    "df = pd.read_csv('imdb_ratings.tsv', sep='\\t')\n",
    "\n",
    "# Sort the DataFrame based on the stars_rating column in descending order\n",
    "df_sorted = df.sort_values(by='stars_rating', ascending=False)\n",
    "\n",
    "# Print the sorted DataFrame\n",
    "print(df_sorted)"
   ]
  },
  {
   "cell_type": "markdown",
   "id": "df1f6dcc-23b2-4126-9a38-088933e87152",
   "metadata": {
    "nbgrader": {
     "grade": false,
     "grade_id": "cell-292aefc14f58221c",
     "locked": true,
     "schema_version": 3,
     "solution": false,
     "task": false
    }
   },
   "source": [
    "### Task 5\n",
    "\n",
    "We are now going to use induced boolean array to filter down to some records. At this step, we are going to work with `df`, and not with `df_sorted`.\n",
    "\n",
    "We want to return only those records of movies, whose ratings are between 8.5 and 9 (both inclusive). For this, we create a `df_rating_filter_85_90`"
   ]
  },
  {
   "cell_type": "code",
   "execution_count": 6,
   "id": "3e6dccae-1d97-4efd-a815-07c57795d59c",
   "metadata": {
    "nbgrader": {
     "grade": false,
     "grade_id": "cell-2331b5c2feaf844e",
     "locked": false,
     "schema_version": 3,
     "solution": true,
     "task": false
    }
   },
   "outputs": [
    {
     "name": "stdout",
     "output_type": "stream",
     "text": [
      "     stars_rating                                              title  \\\n",
      "3             8.6                                      Spirited Away   \n",
      "5             8.7                                        City of God   \n",
      "64            8.9                                       Pulp Fiction   \n",
      "69            8.5                                              Alien   \n",
      "81            8.5                                     Paths of Glory   \n",
      "97            8.5                                       Sunset Blvd.   \n",
      "127           8.5                                      The Lion King   \n",
      "137           8.9                                   Schindler\"s List   \n",
      "178           8.5                                        The Pianist   \n",
      "179           8.9      The Lord of the Rings: The Return of the King   \n",
      "181           8.5                                 Back to the Future   \n",
      "187           9.0                                    The Dark Knight   \n",
      "209           8.7                                      Seven Samurai   \n",
      "211           8.5                                    Cinema Paradiso   \n",
      "214           8.6                                           Whiplash   \n",
      "264           8.5                                     Apocalypse Now   \n",
      "265           8.5                                          Gladiator   \n",
      "267           8.6                                  Life Is Beautiful   \n",
      "304           8.5                                 The Great Dictator   \n",
      "317           8.7                                         Goodfellas   \n",
      "321           8.6                                   The Intouchables   \n",
      "329           8.5                                       The Prestige   \n",
      "333           8.7                                 The Usual Suspects   \n",
      "337           8.8                                       Forrest Gump   \n",
      "346           8.8              The Lord of the Rings: The Two Towers   \n",
      "358           8.6                                       Modern Times   \n",
      "382           8.5                                           3 Idiots   \n",
      "385           8.5                                The Lives of Others   \n",
      "386           8.9                     The Good, the Bad and the Ugly   \n",
      "387           8.5                                            Memento   \n",
      "399           8.7                              It\"s a Wonderful Life   \n",
      "439           8.6                                        Rear Window   \n",
      "455           8.6                                Saving Private Ryan   \n",
      "459           8.5                                     The Green Mile   \n",
      "462           8.5                         Terminator 2: Judgment Day   \n",
      "483           8.6                                         Casablanca   \n",
      "485           8.6                           The Silence of the Lambs   \n",
      "489           8.6                       Once Upon a Time in the West   \n",
      "494           8.9                                       12 Angry Men   \n",
      "531           8.7                                       Interstellar   \n",
      "571           8.5                                   Taare Zameen Par   \n",
      "576           8.5                              The Dark Knight Rises   \n",
      "626           8.5                                        The Shining   \n",
      "639           8.7                                              Se7en   \n",
      "670           8.7                                          Star Wars   \n",
      "687           8.6                            Raiders of the Lost Ark   \n",
      "691           8.8  The Lord of the Rings: The Fellowship of the Ring   \n",
      "692           8.5  Dr. Strangelove or: How I Learned to Stop Worr...   \n",
      "706           8.8     Star Wars: Episode V - The Empire Strikes Back   \n",
      "715           8.5                                   Django Unchained   \n",
      "720           8.5                             Grave of the Fireflies   \n",
      "751           8.5                                       The Departed   \n",
      "768           8.7                                         The Matrix   \n",
      "776           8.6                                             Psycho   \n",
      "784           8.7                    One Flew Over the Cuckoo\"s Nest   \n",
      "818           8.9                                         Fight Club   \n",
      "907           8.6                             Leon: The Professional   \n",
      "911           8.6                                        City Lights   \n",
      "926           8.8                                          Inception   \n",
      "953           8.6                                 American History X   \n",
      "\n",
      "        rating      genre  duration  \\\n",
      "3           PG  Animation       125   \n",
      "5            R      Crime       130   \n",
      "64           R      Crime       154   \n",
      "69           R     Horror       117   \n",
      "81    APPROVED      Drama        88   \n",
      "97   NOT RATED      Drama       110   \n",
      "127          G  Animation        89   \n",
      "137          R  Biography       195   \n",
      "178          R  Biography       150   \n",
      "179      PG-13  Adventure       201   \n",
      "181         PG  Adventure       116   \n",
      "187      PG-13     Action       152   \n",
      "209    UNRATED      Drama       207   \n",
      "211          R      Drama       155   \n",
      "214          R      Drama       107   \n",
      "264          R      Drama       153   \n",
      "265          R     Action       155   \n",
      "267      PG-13     Comedy       116   \n",
      "304   APPROVED     Comedy       125   \n",
      "317          R  Biography       146   \n",
      "321          R  Biography       112   \n",
      "329      PG-13      Drama       130   \n",
      "333          R      Crime       106   \n",
      "337      PG-13      Drama       142   \n",
      "346      PG-13  Adventure       179   \n",
      "358          G     Comedy        87   \n",
      "382      PG-13     Comedy       170   \n",
      "385          R      Drama       137   \n",
      "386  NOT RATED    Western       161   \n",
      "387          R    Mystery       113   \n",
      "399   APPROVED      Drama       130   \n",
      "439   APPROVED    Mystery       112   \n",
      "455          R     Action       169   \n",
      "459          R      Crime       189   \n",
      "462          R     Action       137   \n",
      "483         PG      Drama       102   \n",
      "485          R      Drama       118   \n",
      "489      PG-13    Western       175   \n",
      "494  NOT RATED      Drama        96   \n",
      "531      PG-13  Adventure       169   \n",
      "571         PG      Drama       165   \n",
      "576      PG-13     Action       165   \n",
      "626          R     Horror       146   \n",
      "639          R      Drama       127   \n",
      "670         PG     Action       121   \n",
      "687         PG     Action       115   \n",
      "691      PG-13  Adventure       178   \n",
      "692         PG     Comedy        95   \n",
      "706         PG     Action       124   \n",
      "715          R    Western       165   \n",
      "720    UNRATED  Animation        89   \n",
      "751          R      Crime       151   \n",
      "768          R     Action       136   \n",
      "776          R     Horror       109   \n",
      "784          R      Drama       133   \n",
      "818          R      Drama       139   \n",
      "907          R      Crime       110   \n",
      "911     PASSED     Comedy        87   \n",
      "926      PG-13     Action       148   \n",
      "953          R      Crime       119   \n",
      "\n",
      "                                                actors  \n",
      "3    {\"Daveigh Chase\", \"Suzanne Pleshette\", \"Miyu I...  \n",
      "5    {\"Alexandre Rodrigues\", \"Matheus Nachtergaele\"...  \n",
      "64   {\"John Travolta\", \"Uma Thurman\", \"Samuel L. Ja...  \n",
      "69   {\"Sigourney Weaver\", \"Tom Skerritt\", \"John Hurt\"}  \n",
      "81   {\"Kirk Douglas\", \"Ralph Meeker\", \"Adolphe Menjo\"}  \n",
      "97   {\"William Holden\", \"Gloria Swanson\", \"Erich vo...  \n",
      "127  {\"Matthew Broderick\", \"Jeremy Irons\", \"James E...  \n",
      "137   {\"Liam Neeson\", \"Ralph Fiennes\", \"Ben Kingsley\"}  \n",
      "178  {\"Adrien Brody\", \"Thomas Kretschmann\", \"Frank ...  \n",
      "179  {\"Elijah Wood\", \"Viggo Mortensen\", \"Ian McKell...  \n",
      "181  {\"Michael J. Fox\", \"Christopher Lloyd\", \"Lea T...  \n",
      "187  {\"Christian Bale\", \"Heath Ledger\", \"Aaron Eckh...  \n",
      "209  {\"Toshirô Mifune\", \"Takashi Shimura\", \"Keiko T...  \n",
      "211  {\"Philippe Noiret\", \"Enzo Cannavale\", \"Antonel...  \n",
      "214  {\"Miles Teller\", \"J.K. Simmons\", \"Melissa Beno...  \n",
      "264  {\"Martin Sheen\", \"Marlon Brando\", \"Robert Duva...  \n",
      "265  {\"Russell Crowe\", \"Joaquin Phoenix\", \"Connie N...  \n",
      "267  {\"Roberto Benigni\", \"Nicoletta Braschi\", \"Gior...  \n",
      "304  {\"Charles Chaplin\", \"Paulette Goddard\", \"Jack ...  \n",
      "317      {\"Robert De Niro\", \"Ray Liotta\", \"Joe Pesci\"}  \n",
      "321       {\"François Cluzet\", \"Omar Sy\", \"Anne Le Ny\"}  \n",
      "329  {\"Christian Bale\", \"Hugh Jackman\", \"Scarlett J...  \n",
      "333  {\"Kevin Spacey\", \"Gabriel Byrne\", \"Chazz Palmi...  \n",
      "337       {\"Tom Hanks\", \"Robin Wright\", \"Gary Sinise\"}  \n",
      "346  {\"Elijah Wood\", \"Ian McKellen\", \"Viggo Mortens...  \n",
      "358  {\"Charles Chaplin\", \"Paulette Goddard\", \"Henry...  \n",
      "382           {\"Aamir Khan\", \"Madhavan\", \"Mona Singh\"}  \n",
      "385  {\"Ulrich Mühe\", \"Martina Gedeck\", \"Sebastian K...  \n",
      "386  {\"Clint Eastwood\", \"Eli Wallach\", \"Lee Van Cle...  \n",
      "387  {\"Guy Pearce\", \"Carrie-Anne Moss\", \"Joe Pantol...  \n",
      "399  {\"James Stewart\", \"Donna Reed\", \"Lionel Barrym...  \n",
      "439  {\"James Stewart\", \"Grace Kelly\", \"Wendell Corey\"}  \n",
      "455        {\"Tom Hanks\", \"Matt Damon\", \"Tom Sizemore\"}  \n",
      "459  {\"Tom Hanks\", \"Michael Clarke Duncan\", \"David ...  \n",
      "462  {\"Arnold Schwarzenegger\", \"Linda Hamilton\", \"E...  \n",
      "483  {\"Humphrey Bogart\", \"Ingrid Bergman\", \"Paul He...  \n",
      "485  {\"Jodie Foster\", \"Anthony Hopkins\", \"Lawrence ...  \n",
      "489  {\"Henry Fonda\", \"Charles Bronson\", \"Claudia Ca...  \n",
      "494    {\"Henry Fonda\", \"Lee J. Cobb\", \"Martin Balsam\"}  \n",
      "531  {\"Matthew McConaughey\", \"Anne Hathaway\", \"Jess...  \n",
      "571  {\"Darsheel Safary\", \"Aamir Khan\", \"Tanay Chheda\"}  \n",
      "576   {\"Christian Bale\", \"Tom Hardy\", \"Anne Hathaway\"}  \n",
      "626  {\"Jack Nicholson\", \"Shelley Duvall\", \"Danny Ll...  \n",
      "639    {\"Morgan Freeman\", \"Brad Pitt\", \"Kevin Spacey\"}  \n",
      "670  {\"Mark Hamill\", \"Harrison Ford\", \"Carrie Fisher\"}  \n",
      "687   {\"Harrison Ford\", \"Karen Allen\", \"Paul Freeman\"}  \n",
      "691   {\"Elijah Wood\", \"Ian McKellen\", \"Orlando Bloom\"}  \n",
      "692  {\"Peter Sellers\", \"George C. Scott\", \"Sterling...  \n",
      "706  {\"Mark Hamill\", \"Harrison Ford\", \"Carrie Fisher\"}  \n",
      "715  {\"Jamie Foxx\", \"Christoph Waltz\", \"Leonardo Di...  \n",
      "720  {\"Tsutomu Tatsumi\", \"Ayano Shiraishi\", \"Akemi ...  \n",
      "751  {\"Leonardo DiCaprio\", \"Matt Damon\", \"Jack Nich...  \n",
      "768  {\"Keanu Reeves\", \"Laurence Fishburne\", \"Carrie...  \n",
      "776   {\"Anthony Perkins\", \"Janet Leigh\", \"Vera Miles\"}  \n",
      "784  {\"Jack Nicholson\", \"Louise Fletcher\", \"Michael...  \n",
      "818  {\"Brad Pitt\", \"Edward Norton\", \"Helena Bonham ...  \n",
      "907    {\"Jean Reno\", \"Gary Oldman\", \"Natalie Portman\"}  \n",
      "911  {\"Charles Chaplin\", \"Virginia Cherrill\", \"Flor...  \n",
      "926  {\"Leonardo DiCaprio\", \"Joseph Gordon-Levitt\", ...  \n",
      "953  {\"Edward Norton\", \"Edward Furlong\", \"Beverly D...  \n"
     ]
    }
   ],
   "source": [
    "# Your solution goes here. Replace None with your solution\n",
    "\n",
    "import pandas as pd\n",
    "\n",
    "# Load the imdb_ratings.tsv file into a Pandas DataFrame\n",
    "df = pd.read_csv('imdb_ratings.tsv', sep='\\t')\n",
    "\n",
    "# Create a boolean mask for filtering records with ratings between 8.5 and 9\n",
    "rating_mask = (df['stars_rating'] >= 8.5) & (df['stars_rating'] <= 9)\n",
    "\n",
    "# Filter the DataFrame using the boolean mask\n",
    "df_rating_filter_85_90 = df[rating_mask]\n",
    "\n",
    "# Print the first 5 rows of the filtered DataFrame\n",
    "print(df_rating_filter_85_90)"
   ]
  },
  {
   "cell_type": "markdown",
   "id": "1fc91b8e-f4b8-4360-bfac-550cdba72028",
   "metadata": {
    "nbgrader": {
     "grade": false,
     "grade_id": "cell-a057dd11358ccd23",
     "locked": true,
     "schema_version": 3,
     "solution": false,
     "task": false
    }
   },
   "source": [
    "### Task 6\n",
    "\n",
    "We would like to filter all the movies, in which Tom Hanks has acted.\n",
    "\n",
    "To achieve this, you could first write down a filter `tom_hanks_filter`, which is a pandas Series, and which could be used as a boolean mask to filter to desired records. We recommend working with the `df_sorted`."
   ]
  },
  {
   "cell_type": "code",
   "execution_count": 7,
   "id": "465c6724-356e-4a8f-9693-7fdc041bb050",
   "metadata": {
    "nbgrader": {
     "grade": false,
     "grade_id": "cell-e7522c44cb786d6c",
     "locked": false,
     "schema_version": 3,
     "solution": true,
     "task": false
    }
   },
   "outputs": [
    {
     "name": "stdout",
     "output_type": "stream",
     "text": [
      "     stars_rating                title rating      genre  duration  \\\n",
      "12            7.9     Captain Phillips  PG-13  Biography       134   \n",
      "34            8.4          Toy Story 3      G  Animation       103   \n",
      "58            7.7    Road to Perdition      R      Crime       117   \n",
      "71            7.9          Toy Story 2      G  Animation        92   \n",
      "230           7.7         Philadelphia  PG-13      Drama       125   \n",
      "270           7.7            Cast Away  PG-13  Adventure       143   \n",
      "337           8.8         Forrest Gump  PG-13      Drama       142   \n",
      "405           8.3            Toy Story      G  Animation        81   \n",
      "431           8.0  Catch Me If You Can  PG-13  Biography       141   \n",
      "455           8.6  Saving Private Ryan      R     Action       169   \n",
      "459           8.5       The Green Mile      R      Crime       189   \n",
      "735           7.5          Cloud Atlas      R      Drama       172   \n",
      "883           7.6     Saving Mr. Banks  PG-13  Biography       125   \n",
      "960           7.6            Apollo 13     PG  Adventure       140   \n",
      "\n",
      "                                                actors  \n",
      "12   {\"Tom Hanks\", \"Barkhad Abdi\", \"Barkhad Abdirah...  \n",
      "34           {\"Tom Hanks\", \"Tim Allen\", \"Joan Cusack\"}  \n",
      "58        {\"Tom Hanks\", \"Tyler Hoechlin\", \"Rob Maxey\"}  \n",
      "71           {\"Tom Hanks\", \"Tim Allen\", \"Joan Cusack\"}  \n",
      "230  {\"Tom Hanks\", \"Denzel Washington\", \"Roberta Ma...  \n",
      "270        {\"Tom Hanks\", \"Helen Hunt\", \"Paul Sanchez\"}  \n",
      "337       {\"Tom Hanks\", \"Robin Wright\", \"Gary Sinise\"}  \n",
      "405          {\"Tom Hanks\", \"Tim Allen\", \"Don Rickles\"}  \n",
      "431  {\"Leonardo DiCaprio\", \"Tom Hanks\", \"Christophe...  \n",
      "455        {\"Tom Hanks\", \"Matt Damon\", \"Tom Sizemore\"}  \n",
      "459  {\"Tom Hanks\", \"Michael Clarke Duncan\", \"David ...  \n",
      "735         {\"Tom Hanks\", \"Halle Berry\", \"Hugh Grant\"}  \n",
      "883  {\"Emma Thompson\", \"Tom Hanks\", \"Annie Rose Buc...  \n",
      "960        {\"Tom Hanks\", \"Bill Paxton\", \"Kevin Bacon\"}  \n"
     ]
    }
   ],
   "source": [
    "# Your solution goes here. Replace None with your solution\n",
    "\n",
    "import pandas as pd\n",
    "\n",
    "# Load the tab-separated file into a DataFrame\n",
    "df_sorted = pd.read_csv(\"imdb_ratings.tsv\", sep='\\t')\n",
    "\n",
    "# Create a boolean mask to filter movies with Tom Hanks\n",
    "tom_hanks_filter = df_sorted['actors'].apply(lambda x: 'Tom Hanks' in x)\n",
    "\n",
    "# Apply the boolean mask to filter the DataFrame\n",
    "df_tom_hanks_movies = df_sorted[tom_hanks_filter]\n",
    "\n",
    "# Print the DataFrame containing Tom Hanks movies\n",
    "print(df_tom_hanks_movies)"
   ]
  },
  {
   "cell_type": "markdown",
   "id": "d2e2fd8b-33fe-47a1-b526-28ce9442c9b2",
   "metadata": {
    "nbgrader": {
     "grade": false,
     "grade_id": "cell-8f3a35eb4d6f746c",
     "locked": true,
     "schema_version": 3,
     "solution": false,
     "task": false
    }
   },
   "source": [
    "### Task 7 (Read Only)\n",
    "\n",
    "There are several different types of summaries that one can generate for a given data frame. Let us take an example, where we are going to count movies for each rating, and plot the result, with number of movies along vertical axis and rating along horizontal axis."
   ]
  },
  {
   "cell_type": "code",
   "execution_count": 8,
   "id": "bcf7a67c-8dff-44b2-a8eb-e045e9c4904b",
   "metadata": {
    "nbgrader": {
     "grade": false,
     "grade_id": "cell-70fdee0c805d7bc7",
     "locked": true,
     "schema_version": 3,
     "solution": false,
     "task": false
    }
   },
   "outputs": [
    {
     "data": {
      "text/plain": [
       "<Axes: xlabel='rating', ylabel='Number of Movies'>"
      ]
     },
     "execution_count": 8,
     "metadata": {},
     "output_type": "execute_result"
    },
    {
     "data": {
      "image/png": "[encoded data removed]",
      "text/plain": [
       "<Figure size 640x480 with 1 Axes>"
      ]
     },
     "metadata": {},
     "output_type": "display_data"
    }
   ],
   "source": [
    "# Load Libraries, if they are not done so far.\n",
    "import numpy as np\n",
    "import pandas as pd\n",
    "\n",
    "# Let us reload the data, in case, it is not done already. (Optional)\n",
    "df = pd.read_csv(\"imdb_ratings.tsv\", sep=\"\\t\")\n",
    "\n",
    "# access the column, and use the aggregate method value_counts() to count\n",
    "# the number of times a rating appears in the selected pandas series.\n",
    "df_ratings_movie_counts = df.iloc[:,0].value_counts().sort_index()\n",
    "\n",
    "# Use plot() method with named arguments.\n",
    "df_ratings_movie_counts.plot(kind=\"bar\",\n",
    "                             xlabel=\"rating\",\n",
    "                             ylabel=\"Number of Movies\",\n",
    "                             legend=False)"
   ]
  }
 ],
 "metadata": {
  "kernelspec": {
   "display_name": "Python 3 (ipykernel)",
   "language": "python",
   "name": "python3"
  },
  "language_info": {
   "codemirror_mode": {
    "name": "ipython",
    "version": 3
   },
   "file_extension": ".py",
   "mimetype": "text/x-python",
   "name": "python",
   "nbconvert_exporter": "python",
   "pygments_lexer": "ipython3",
   "version": "3.11.7"
  }
 },
 "nbformat": 4,
 "nbformat_minor": 5
}
