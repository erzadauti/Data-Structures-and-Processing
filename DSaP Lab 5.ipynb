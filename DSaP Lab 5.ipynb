{
 "cells": [
  {
   "cell_type": "markdown",
   "metadata": {},
   "source": [
    "# Exploratory Data Analysis\n",
    "\n",
    "In this assignment we will work with data about the Titanic's passengers.\n",
    "\n",
    "Objectives:\n",
    "* to familiarize you with the seaborn library\n",
    "* learn how to build different visualizations\n",
    "* fill the gaps in the data\n",
    "* encode categorical data"
   ]
  },
  {
   "cell_type": "code",
   "execution_count": 114,
   "metadata": {},
   "outputs": [
    {
     "name": "stdout",
     "output_type": "stream",
     "text": [
      "%pylab is deprecated, use %matplotlib inline and import the required libraries.\n",
      "Populating the interactive namespace from numpy and matplotlib\n"
     ]
    }
   ],
   "source": [
    "import pandas as pd\n",
    "import numpy as np\n",
    "from matplotlib import pyplot as plt\n",
    "import seaborn as sns\n",
    "%pylab inline"
   ]
  },
  {
   "cell_type": "markdown",
   "metadata": {},
   "source": [
    "Let's load the data."
   ]
  },
  {
   "cell_type": "code",
   "execution_count": 115,
   "metadata": {},
   "outputs": [],
   "source": [
    "df = pd.read_csv(\"titanic.csv\")"
   ]
  },
  {
   "cell_type": "markdown",
   "metadata": {},
   "source": [
    "### Task 1\n",
    "Display the first 7 rows of the table and the table dimensions."
   ]
  },
  {
   "cell_type": "code",
   "execution_count": 116,
   "metadata": {},
   "outputs": [
    {
     "name": "stdout",
     "output_type": "stream",
     "text": [
      "First 7 rows of the DataFrame:\n",
      "   PassengerId  Survived  Pclass  \\\n",
      "0          1.0       0.0     3.0   \n",
      "1          2.0       1.0     1.0   \n",
      "2          3.0       1.0     3.0   \n",
      "3          4.0       1.0     1.0   \n",
      "4          5.0       0.0     3.0   \n",
      "5          NaN       NaN     NaN   \n",
      "6          7.0       0.0     1.0   \n",
      "\n",
      "                                                Name     Sex   Age  SibSp  \\\n",
      "0                            Braund; Mr. Owen Harris    male  22.0    1.0   \n",
      "1  Cumings; Mrs. John Bradley (Florence Briggs Th...  female  38.0    1.0   \n",
      "2                             Heikkinen; Miss. Laina  female  26.0    0.0   \n",
      "3       Futrelle; Mrs. Jacques Heath (Lily May Peel)  female  35.0    1.0   \n",
      "4                           Allen; Mr. William Henry    male  35.0    0.0   \n",
      "5                                                NaN     NaN   NaN    NaN   \n",
      "6                            McCarthy; Mr. Timothy J    male  54.0    0.0   \n",
      "\n",
      "   Parch            Ticket     Fare Cabin Embarked  \n",
      "0    0.0         A/5 21171   7.2500   NaN        S  \n",
      "1    0.0          PC 17599  71.2833   C85        C  \n",
      "2    0.0  STON/O2. 3101282   7.9250   NaN        S  \n",
      "3    0.0            113803  53.1000  C123        S  \n",
      "4    0.0            373450   8.0500   NaN        S  \n",
      "5    NaN               NaN      NaN   NaN      NaN  \n",
      "6    0.0             17463  51.8625   E46        S  \n",
      "\n",
      "Dimensions of the DataFrame:\n",
      "(891, 12)\n"
     ]
    }
   ],
   "source": [
    "import pandas as pd\n",
    "\n",
    "# Assuming df is your DataFrame\n",
    "df = pd.read_csv('titanic.csv') \n",
    "\n",
    "# Display the first 7 rows of the DataFrame\n",
    "print(\"First 7 rows of the DataFrame:\")\n",
    "print(df.head(7))\n",
    "\n",
    "# Display the dimensions of the DataFrame\n",
    "print(\"\\nDimensions of the DataFrame:\")\n",
    "print(df.shape)"
   ]
  },
  {
   "cell_type": "markdown",
   "metadata": {},
   "source": [
    "# Feature Processing\n",
    "\n",
    "1) Find columns that have missing values and process these missing values\n",
    "\n",
    "2) Translate categorical features into numerical"
   ]
  },
  {
   "cell_type": "markdown",
   "metadata": {},
   "source": [
    "### Task 2 \n",
    "Output the basic numerical characteristics of the numerical columns. The method `.describe()` can be very usefull here."
   ]
  },
  {
   "cell_type": "code",
   "execution_count": 117,
   "metadata": {},
   "outputs": [
    {
     "name": "stdout",
     "output_type": "stream",
     "text": [
      "Basic numerical characteristics of the numerical columns:\n",
      "       PassengerId    Survived      Pclass         Age       SibSp  \\\n",
      "count   886.000000  886.000000  886.000000  711.000000  886.000000   \n",
      "mean    448.316027    0.383747    2.305869   29.743094    0.523702   \n",
      "std     256.211467    0.486572    0.837071   14.505873    1.105202   \n",
      "min       1.000000    0.000000    1.000000    0.420000    0.000000   \n",
      "25%     227.250000    0.000000    2.000000   20.750000    0.000000   \n",
      "50%     448.500000    0.000000    3.000000   28.000000    0.000000   \n",
      "75%     669.750000    1.000000    3.000000   38.000000    1.000000   \n",
      "max     891.000000    1.000000    3.000000   80.000000    8.000000   \n",
      "\n",
      "            Parch        Fare  \n",
      "count  886.000000  886.000000  \n",
      "mean     0.375847   32.279387  \n",
      "std      0.791082   49.817969  \n",
      "min      0.000000    0.000000  \n",
      "25%      0.000000    7.903100  \n",
      "50%      0.000000   14.454200  \n",
      "75%      0.000000   31.000000  \n",
      "max      6.000000  512.329200  \n"
     ]
    }
   ],
   "source": [
    "import pandas as pd\n",
    "\n",
    "# Assuming df is your DataFrame\n",
    "df = pd.read_csv('titanic.csv') \n",
    "\n",
    "# Find numerical columns\n",
    "num_cols = df.select_dtypes(include='number').columns\n",
    "\n",
    "# Output the basic numerical characteristics of the numerical columns\n",
    "print(\"Basic numerical characteristics of the numerical columns:\")\n",
    "print(df[num_cols].describe())"
   ]
  },
  {
   "cell_type": "markdown",
   "metadata": {},
   "source": [
    "The function does not allow you to see if there are missing values in non-numeric columns.\n",
    "\n",
    "## Process the 'Sex' column\n",
    "\n",
    "### Task 3\n",
    "Check if there are missing values in the column."
   ]
  },
  {
   "cell_type": "code",
   "execution_count": 118,
   "metadata": {},
   "outputs": [
    {
     "name": "stdout",
     "output_type": "stream",
     "text": [
      "Number of missing values in the \"Sex\" column: 5\n"
     ]
    }
   ],
   "source": [
    "import pandas as pd\n",
    "\n",
    "# Load the data into a pandas DataFrame\n",
    "df = pd.read_csv('titanic.csv')\n",
    "\n",
    "# Check if there are missing values in the 'Sex' column\n",
    "missing_values = df['Sex'].isnull().sum()\n",
    "\n",
    "# Print the number of missing values in the 'Sex' column\n",
    "print(f'Number of missing values in the \"Sex\" column: {missing_values}')\n",
    "\n",
    "# Replace missing values in the 'Sex' column with a default value \n",
    "df['Sex'].fillna('Unknown', inplace=True)"
   ]
  },
  {
   "cell_type": "markdown",
   "metadata": {},
   "source": [
    "### Task 4\n",
    "You should get 5 in the previous taks. It is a very small amount. Therefore, we can remove them completely from the dataset. Do it."
   ]
  },
  {
   "cell_type": "code",
   "execution_count": 119,
   "metadata": {},
   "outputs": [
    {
     "name": "stdout",
     "output_type": "stream",
     "text": [
      "0\n"
     ]
    }
   ],
   "source": [
    "import pandas as pd\n",
    "\n",
    "# Load the dataset\n",
    "df = pd.read_csv('titanic.csv')\n",
    "\n",
    "# Remove rows with missing values in the 'Sex' column\n",
    "df = df.dropna(subset=['Sex'])\n",
    "\n",
    "# Check if there are any missing values left in the 'Sex' column\n",
    "print(df['Sex'].isnull().sum())"
   ]
  },
  {
   "cell_type": "code",
   "execution_count": 120,
   "metadata": {},
   "outputs": [
    {
     "name": "stdout",
     "output_type": "stream",
     "text": [
      "   Sex\n",
      "0    0\n",
      "1    1\n",
      "2    0\n",
      "3    0\n",
      "4    1\n",
      "5    1\n",
      "6    0\n",
      "7    0\n",
      "8    1\n",
      "9    1\n"
     ]
    }
   ],
   "source": [
    "import pandas as pd\n",
    "\n",
    "# Create a sample DataFrame with a 'Sex' column\n",
    "df = pd.DataFrame({\n",
    "    'Sex': ['male', 'female', 'male', 'male', 'female', 'female', 'male', 'male', 'female', 'female']\n",
    "})\n",
    "\n",
    "# Create a dictionary to map the categories to numbers\n",
    "sex_dict = {'male': 0, 'female': 1}\n",
    "\n",
    "# Apply the dictionary to the 'Sex' column\n",
    "df['Sex'] = df['Sex'].map(sex_dict)\n",
    "\n",
    "print(df)"
   ]
  },
  {
   "cell_type": "markdown",
   "metadata": {},
   "source": [
    "Let's see how gender affects survival rates."
   ]
  },
  {
   "cell_type": "code",
   "execution_count": 121,
   "metadata": {},
   "outputs": [
    {
     "data": {
      "image/png": "[encoded data removed]",
      "text/plain": [
       "<Figure size 640x480 with 1 Axes>"
      ]
     },
     "metadata": {},
     "output_type": "display_data"
    }
   ],
   "source": [
    "import pandas as pd\n",
    "import seaborn as sns\n",
    "import matplotlib.pyplot as plt\n",
    "\n",
    "# Load Titanic dataset into a DataFrame\n",
    "titanic_data = pd.read_csv('titanic.csv')\n",
    "\n",
    "# Calculate survival rates by gender\n",
    "survival_by_gender = titanic_data.groupby('Sex')['Survived'].mean().reset_index()\n",
    "\n",
    "# Plotting\n",
    "sns.barplot(x='Sex', y='Survived', data=survival_by_gender, palette='Set1')\n",
    "sns.set_style('whitegrid')  # Optional: Set the style of the plot\n",
    "plt.title('Survival Rate by Gender')\n",
    "plt.xlabel('Gender')\n",
    "plt.ylabel('Survival Rate')\n",
    "plt.show()\n",
    "\n",
    "\n",
    "\n"
   ]
  },
  {
   "cell_type": "markdown",
   "metadata": {},
   "source": [
    "Let's see how a person's gender and ticket class (Pclass) affect survival rates"
   ]
  },
  {
   "cell_type": "code",
   "execution_count": 122,
   "metadata": {},
   "outputs": [
    {
     "data": {
      "image/png": "[encoded data removed]",
      "text/plain": [
       "<Figure size 1000x600 with 1 Axes>"
      ]
     },
     "metadata": {},
     "output_type": "display_data"
    }
   ],
   "source": [
    "import seaborn as sns\n",
    "import matplotlib.pyplot as plt\n",
    "\n",
    "# Load Titanic dataset from seaborn\n",
    "titanic_data = sns.load_dataset('titanic')\n",
    "\n",
    "# Calculate survival rates\n",
    "survival_rates = titanic_data.groupby(['sex', 'pclass'])['survived'].mean().reset_index()\n",
    "\n",
    "plt.figure(figsize=(10, 6))\n",
    "sns.barplot(x='pclass', y='survived', hue='sex', data=survival_rates)\n",
    "plt.legend(title='Gender')\n",
    "plt.show()\n"
   ]
  },
  {
   "cell_type": "markdown",
   "metadata": {},
   "source": [
    "Another useful type of visualization is the box plot box. Let's look at a box plot that reflects the distribution of passengers by gender and age."
   ]
  },
  {
   "cell_type": "code",
   "execution_count": 123,
   "metadata": {},
   "outputs": [
    {
     "data": {
      "text/plain": [
       "<Axes: xlabel='sex', ylabel='age'>"
      ]
     },
     "execution_count": 123,
     "metadata": {},
     "output_type": "execute_result"
    },
    {
     "data": {
      "image/png": "[encoded data removed]",
      "text/plain": [
       "<Figure size 640x480 with 1 Axes>"
      ]
     },
     "metadata": {},
     "output_type": "display_data"
    }
   ],
   "source": [
    "import seaborn as sns\n",
    "\n",
    "# Load Titanic dataset from seaborn\n",
    "titanic_data = sns.load_dataset('titanic')\n",
    "\n",
    "# Plotting the box plot\n",
    "sns.boxplot(x='sex', y='age', data=titanic_data)\n"
   ]
  },
  {
   "cell_type": "markdown",
   "metadata": {},
   "source": [
    "We can detail the picture by adding Pclass separation."
   ]
  },
  {
   "cell_type": "code",
   "execution_count": 124,
   "metadata": {},
   "outputs": [
    {
     "data": {
      "image/png": "[encoded data removed]",
      "text/plain": [
       "<Figure size 1000x600 with 1 Axes>"
      ]
     },
     "metadata": {},
     "output_type": "display_data"
    }
   ],
   "source": [
    "import seaborn as sns\n",
    "import matplotlib.pyplot as plt\n",
    "\n",
    "# Load Titanic dataset from seaborn\n",
    "titanic_data = sns.load_dataset('titanic')\n",
    "\n",
    "# Plotting the box plot with separation by ticket class (Pclass)\n",
    "plt.figure(figsize=(10, 6))\n",
    "sns.boxplot(x='sex', y='age', hue='pclass', data=titanic_data)\n",
    "plt.title('Distribution of Passengers by Gender, Age, and Ticket Class')\n",
    "plt.xlabel('Gender')\n",
    "plt.ylabel('Age')\n",
    "plt.legend(title='Ticket Class')\n",
    "plt.show()\n"
   ]
  },
  {
   "cell_type": "markdown",
   "metadata": {},
   "source": [
    "## Process the 'Embarked' feature"
   ]
  },
  {
   "cell_type": "code",
   "execution_count": 125,
   "metadata": {},
   "outputs": [
    {
     "name": "stdout",
     "output_type": "stream",
     "text": [
      "Embarked\n",
      "S      641\n",
      "C      168\n",
      "Q       75\n",
      "NaN      7\n",
      "Name: count, dtype: int64\n",
      "(891, 12)\n"
     ]
    }
   ],
   "source": [
    "import pandas as pd\n",
    "\n",
    "# Load Titanic dataset into a DataFrame\n",
    "titanic_data = pd.read_csv('titanic.csv')\n",
    "\n",
    "# Check the value counts of the 'Embarked' column, including missing values\n",
    "print(titanic_data['Embarked'].value_counts(dropna=False))\n",
    "print(titanic_data.shape)\n"
   ]
  },
  {
   "cell_type": "markdown",
   "metadata": {},
   "source": [
    "### Task 6\n",
    "Remove passengers from the table for whom the port of embarkation (Embarked) is unknown."
   ]
  },
  {
   "cell_type": "code",
   "execution_count": 126,
   "metadata": {},
   "outputs": [
    {
     "name": "stdout",
     "output_type": "stream",
     "text": [
      "   PassengerId  Survived  Pclass  \\\n",
      "0          1.0       0.0     3.0   \n",
      "1          2.0       1.0     1.0   \n",
      "2          3.0       1.0     3.0   \n",
      "3          4.0       1.0     1.0   \n",
      "4          5.0       0.0     3.0   \n",
      "\n",
      "                                                Name     Sex   Age  SibSp  \\\n",
      "0                            Braund; Mr. Owen Harris    male  22.0    1.0   \n",
      "1  Cumings; Mrs. John Bradley (Florence Briggs Th...  female  38.0    1.0   \n",
      "2                             Heikkinen; Miss. Laina  female  26.0    0.0   \n",
      "3       Futrelle; Mrs. Jacques Heath (Lily May Peel)  female  35.0    1.0   \n",
      "4                           Allen; Mr. William Henry    male  35.0    0.0   \n",
      "\n",
      "   Parch            Ticket     Fare Cabin Embarked  \n",
      "0    0.0         A/5 21171   7.2500   NaN        S  \n",
      "1    0.0          PC 17599  71.2833   C85        C  \n",
      "2    0.0  STON/O2. 3101282   7.9250   NaN        S  \n",
      "3    0.0            113803  53.1000  C123        S  \n",
      "4    0.0            373450   8.0500   NaN        S  \n"
     ]
    }
   ],
   "source": [
    "import pandas as pd\n",
    "\n",
    "# Load the dataset\n",
    "df = pd.read_csv('titanic.csv')\n",
    "\n",
    "# Remove rows with missing values in the 'Embarked' column\n",
    "df = df.dropna(subset=['Embarked'])\n",
    "\n",
    "# Display the updated dataset\n",
    "print(df.head())"
   ]
  },
  {
   "cell_type": "markdown",
   "metadata": {},
   "source": [
    "Let's convert the categorical column to numeric columns using One-Hot Encoding, namely, create three numeric columns as follows:"
   ]
  },
  {
   "cell_type": "code",
   "execution_count": 127,
   "metadata": {},
   "outputs": [],
   "source": [
    "# df['EmbS'] = df.apply(lambda row: 1 if row.Embarked == 'S' else 0, axis=1)\n",
    "# df['EmbC'] = df.apply(lambda row: 1 if row.Embarked == 'C' else 0, axis=1)\n",
    "# df['EmbQ'] = df.apply(lambda row: 1 if row.Embarked == 'Q' else 0, axis=1)"
   ]
  },
  {
   "cell_type": "markdown",
   "metadata": {},
   "source": [
    "This operation can be done using the `get_dummies` method."
   ]
  },
  {
   "cell_type": "code",
   "execution_count": 128,
   "metadata": {},
   "outputs": [
    {
     "data": {
      "text/html": [
       "<div>\n",
       "<style scoped>\n",
       "    .dataframe tbody tr th:only-of-type {\n",
       "        vertical-align: middle;\n",
       "    }\n",
       "\n",
       "    .dataframe tbody tr th {\n",
       "        vertical-align: top;\n",
       "    }\n",
       "\n",
       "    .dataframe thead th {\n",
       "        text-align: right;\n",
       "    }\n",
       "</style>\n",
       "<table border=\"1\" class=\"dataframe\">\n",
       "  <thead>\n",
       "    <tr style=\"text-align: right;\">\n",
       "      <th></th>\n",
       "      <th>C</th>\n",
       "      <th>Q</th>\n",
       "      <th>S</th>\n",
       "    </tr>\n",
       "  </thead>\n",
       "  <tbody>\n",
       "    <tr>\n",
       "      <th>0</th>\n",
       "      <td>False</td>\n",
       "      <td>False</td>\n",
       "      <td>True</td>\n",
       "    </tr>\n",
       "    <tr>\n",
       "      <th>1</th>\n",
       "      <td>True</td>\n",
       "      <td>False</td>\n",
       "      <td>False</td>\n",
       "    </tr>\n",
       "    <tr>\n",
       "      <th>2</th>\n",
       "      <td>False</td>\n",
       "      <td>False</td>\n",
       "      <td>True</td>\n",
       "    </tr>\n",
       "    <tr>\n",
       "      <th>3</th>\n",
       "      <td>False</td>\n",
       "      <td>False</td>\n",
       "      <td>True</td>\n",
       "    </tr>\n",
       "    <tr>\n",
       "      <th>4</th>\n",
       "      <td>False</td>\n",
       "      <td>False</td>\n",
       "      <td>True</td>\n",
       "    </tr>\n",
       "    <tr>\n",
       "      <th>...</th>\n",
       "      <td>...</td>\n",
       "      <td>...</td>\n",
       "      <td>...</td>\n",
       "    </tr>\n",
       "    <tr>\n",
       "      <th>886</th>\n",
       "      <td>False</td>\n",
       "      <td>False</td>\n",
       "      <td>True</td>\n",
       "    </tr>\n",
       "    <tr>\n",
       "      <th>887</th>\n",
       "      <td>False</td>\n",
       "      <td>False</td>\n",
       "      <td>True</td>\n",
       "    </tr>\n",
       "    <tr>\n",
       "      <th>888</th>\n",
       "      <td>False</td>\n",
       "      <td>False</td>\n",
       "      <td>True</td>\n",
       "    </tr>\n",
       "    <tr>\n",
       "      <th>889</th>\n",
       "      <td>True</td>\n",
       "      <td>False</td>\n",
       "      <td>False</td>\n",
       "    </tr>\n",
       "    <tr>\n",
       "      <th>890</th>\n",
       "      <td>False</td>\n",
       "      <td>True</td>\n",
       "      <td>False</td>\n",
       "    </tr>\n",
       "  </tbody>\n",
       "</table>\n",
       "<p>884 rows × 3 columns</p>\n",
       "</div>"
      ],
      "text/plain": [
       "         C      Q      S\n",
       "0    False  False   True\n",
       "1     True  False  False\n",
       "2    False  False   True\n",
       "3    False  False   True\n",
       "4    False  False   True\n",
       "..     ...    ...    ...\n",
       "886  False  False   True\n",
       "887  False  False   True\n",
       "888  False  False   True\n",
       "889   True  False  False\n",
       "890  False   True  False\n",
       "\n",
       "[884 rows x 3 columns]"
      ]
     },
     "execution_count": 128,
     "metadata": {},
     "output_type": "execute_result"
    }
   ],
   "source": [
    "pd.get_dummies(df['Embarked'])"
   ]
  },
  {
   "cell_type": "markdown",
   "metadata": {},
   "source": [
    "### Task 7\n",
    "Remove the categorical column `Embarked` from the table and add new columns to it, obtained using `get_dummies`."
   ]
  },
  {
   "cell_type": "code",
   "execution_count": 129,
   "metadata": {},
   "outputs": [
    {
     "name": "stdout",
     "output_type": "stream",
     "text": [
      "     PassengerId  Survived  Pclass  \\\n",
      "0            1.0       0.0     3.0   \n",
      "1            2.0       1.0     1.0   \n",
      "2            3.0       1.0     3.0   \n",
      "3            4.0       1.0     1.0   \n",
      "4            5.0       0.0     3.0   \n",
      "..           ...       ...     ...   \n",
      "886        887.0       0.0     2.0   \n",
      "887        888.0       1.0     1.0   \n",
      "888        889.0       0.0     3.0   \n",
      "889        890.0       1.0     1.0   \n",
      "890        891.0       0.0     3.0   \n",
      "\n",
      "                                                  Name     Sex   Age  SibSp  \\\n",
      "0                              Braund; Mr. Owen Harris    male  22.0    1.0   \n",
      "1    Cumings; Mrs. John Bradley (Florence Briggs Th...  female  38.0    1.0   \n",
      "2                               Heikkinen; Miss. Laina  female  26.0    0.0   \n",
      "3         Futrelle; Mrs. Jacques Heath (Lily May Peel)  female  35.0    1.0   \n",
      "4                             Allen; Mr. William Henry    male  35.0    0.0   \n",
      "..                                                 ...     ...   ...    ...   \n",
      "886                              Montvila; Rev. Juozas    male  27.0    0.0   \n",
      "887                       Graham; Miss. Margaret Edith  female  19.0    0.0   \n",
      "888           Johnston; Miss. Catherine Helen \"Carrie\"  female   NaN    1.0   \n",
      "889                              Behr; Mr. Karl Howell    male  26.0    0.0   \n",
      "890                                Dooley; Mr. Patrick    male  32.0    0.0   \n",
      "\n",
      "     Parch            Ticket     Fare Cabin  Embarked_C  Embarked_Q  \\\n",
      "0      0.0         A/5 21171   7.2500   NaN       False       False   \n",
      "1      0.0          PC 17599  71.2833   C85        True       False   \n",
      "2      0.0  STON/O2. 3101282   7.9250   NaN       False       False   \n",
      "3      0.0            113803  53.1000  C123       False       False   \n",
      "4      0.0            373450   8.0500   NaN       False       False   \n",
      "..     ...               ...      ...   ...         ...         ...   \n",
      "886    0.0            211536  13.0000   NaN       False       False   \n",
      "887    0.0            112053  30.0000   B42       False       False   \n",
      "888    2.0        W./C. 6607  23.4500   NaN       False       False   \n",
      "889    0.0            111369  30.0000  C148        True       False   \n",
      "890    0.0            370376   7.7500   NaN       False        True   \n",
      "\n",
      "     Embarked_S  \n",
      "0          True  \n",
      "1         False  \n",
      "2          True  \n",
      "3          True  \n",
      "4          True  \n",
      "..          ...  \n",
      "886        True  \n",
      "887        True  \n",
      "888        True  \n",
      "889       False  \n",
      "890       False  \n",
      "\n",
      "[884 rows x 14 columns]\n"
     ]
    }
   ],
   "source": [
    "import pandas as pd\n",
    "\n",
    "# Check if the 'Embarked' column exists in the DataFrame\n",
    "if 'Embarked' in df.columns:\n",
    "    # Add new columns to the DataFrame using get_dummies\n",
    "    df_dummies = pd.get_dummies(df['Embarked'].fillna('Unknown'), prefix='Embarked')\n",
    "\n",
    "    # Remove the 'Embarked' column\n",
    "    df = df.drop('Embarked', axis=1)\n",
    "\n",
    "    # Concatenate the original DataFrame with the new columns\n",
    "    df = pd.concat([df, df_dummies], axis=1)\n",
    "\n",
    "print(df)"
   ]
  },
  {
   "cell_type": "markdown",
   "metadata": {},
   "source": [
    "## Process the 'Age' feature\n",
    "\n",
    "Check if `Age` has any missing values."
   ]
  },
  {
   "cell_type": "code",
   "execution_count": 130,
   "metadata": {
    "scrolled": true
   },
   "outputs": [
    {
     "data": {
      "text/plain": [
       "175"
      ]
     },
     "execution_count": 130,
     "metadata": {},
     "output_type": "execute_result"
    }
   ],
   "source": [
    "df.Age.isna().sum()"
   ]
  },
  {
   "cell_type": "markdown",
   "metadata": {},
   "source": [
    "Let's fill in the blanks with the median `Age` value."
   ]
  },
  {
   "cell_type": "code",
   "execution_count": 131,
   "metadata": {},
   "outputs": [],
   "source": [
    "median_age = df['Age'].median()\n",
    "\n",
    "df['Age'].fillna(median_age, inplace=True)"
   ]
  },
  {
   "cell_type": "markdown",
   "metadata": {},
   "source": []
  },
  {
   "cell_type": "markdown",
   "metadata": {},
   "source": [
    "Let's plot the age distribution of the passengers."
   ]
  },
  {
   "cell_type": "code",
   "execution_count": 132,
   "metadata": {},
   "outputs": [
    {
     "name": "stderr",
     "output_type": "stream",
     "text": [
      "/var/folders/ds/8r6r7x_x5lg1lsn9dq6wm5pm0000gn/T/ipykernel_66867/755151933.py:1: UserWarning: \n",
      "\n",
      "`distplot` is a deprecated function and will be removed in seaborn v0.14.0.\n",
      "\n",
      "Please adapt your code to use either `displot` (a figure-level function with\n",
      "similar flexibility) or `histplot` (an axes-level function for histograms).\n",
      "\n",
      "For a guide to updating your code to use the new functions, please see\n",
      "https://gist.github.com/mwaskom/de44147ed2974457ad6372750bbe5751\n",
      "\n",
      "  sns.distplot(df['Age'], kde=False)\n"
     ]
    },
    {
     "data": {
      "image/png": "[encoded data removed]",
      "text/plain": [
       "<Figure size 640x480 with 1 Axes>"
      ]
     },
     "metadata": {},
     "output_type": "display_data"
    }
   ],
   "source": [
    "sns.distplot(df['Age'], kde=False)\n",
    "plt.show()"
   ]
  },
  {
   "cell_type": "markdown",
   "metadata": {},
   "source": [
    "We can also look at the age distribution of `Pclass`."
   ]
  },
  {
   "cell_type": "code",
   "execution_count": 133,
   "metadata": {},
   "outputs": [
    {
     "name": "stderr",
     "output_type": "stream",
     "text": [
      "/opt/anaconda3/lib/python3.11/site-packages/seaborn/_oldcore.py:1119: FutureWarning: use_inf_as_na option is deprecated and will be removed in a future version. Convert inf values to NaN before operating instead.\n",
      "  with pd.option_context('mode.use_inf_as_na', True):\n",
      "/opt/anaconda3/lib/python3.11/site-packages/seaborn/_oldcore.py:1119: FutureWarning: use_inf_as_na option is deprecated and will be removed in a future version. Convert inf values to NaN before operating instead.\n",
      "  with pd.option_context('mode.use_inf_as_na', True):\n",
      "/opt/anaconda3/lib/python3.11/site-packages/seaborn/_oldcore.py:1119: FutureWarning: use_inf_as_na option is deprecated and will be removed in a future version. Convert inf values to NaN before operating instead.\n",
      "  with pd.option_context('mode.use_inf_as_na', True):\n"
     ]
    },
    {
     "data": {
      "image/png": "[encoded data removed]",
      "text/plain": [
       "<Figure size 369.375x300 with 1 Axes>"
      ]
     },
     "metadata": {},
     "output_type": "display_data"
    }
   ],
   "source": [
    "import seaborn as sns\n",
    "\n",
    "facet = sns.FacetGrid(data=df, hue=\"Pclass\", legend_out=True)\n",
    "facet = facet.map(sns.kdeplot, \"Age\")\n",
    "facet.add_legend();\n",
    "\n"
   ]
  },
  {
   "cell_type": "markdown",
   "metadata": {},
   "source": [
    "### Process the 'Fare' feature\n",
    "\n",
    "1) Check if there are any missing values in `Fare`\n",
    "\n",
    "2) If there are missing values, fill them with the _median_ value of `Fare`"
   ]
  },
  {
   "cell_type": "code",
   "execution_count": 134,
   "metadata": {
    "scrolled": true
   },
   "outputs": [],
   "source": [
    "import pandas as pd\n",
    "\n",
    "# Load the dataset\n",
    "df = pd.read_csv('titanic.csv')\n",
    "\n",
    "# Calculate the median value of Fare\n",
    "median_fare = df['Fare'].median()\n",
    "\n",
    "# Fill missing values in Fare with the median value\n",
    "df['Fare'] = df['Fare'].fillna(median_fare)"
   ]
  },
  {
   "cell_type": "markdown",
   "metadata": {},
   "source": [
    "### Process the 'Pclass' feature\n",
    "\n",
    "Are there any missing values in `Pclass`?"
   ]
  },
  {
   "cell_type": "code",
   "execution_count": 135,
   "metadata": {},
   "outputs": [
    {
     "data": {
      "text/plain": [
       "Pclass\n",
       "3.0    487\n",
       "1.0    216\n",
       "2.0    183\n",
       "NaN      5\n",
       "Name: count, dtype: int64"
      ]
     },
     "execution_count": 135,
     "metadata": {},
     "output_type": "execute_result"
    }
   ],
   "source": [
    "df['Pclass'].value_counts(dropna=False)"
   ]
  },
  {
   "cell_type": "markdown",
   "metadata": {},
   "source": [
    "### Task 8\n",
    "Draw a histogram of survival rates as a function of `Pclass`."
   ]
  },
  {
   "cell_type": "code",
   "execution_count": 136,
   "metadata": {},
   "outputs": [
    {
     "name": "stderr",
     "output_type": "stream",
     "text": [
      "/opt/anaconda3/lib/python3.11/site-packages/seaborn/_oldcore.py:1119: FutureWarning: use_inf_as_na option is deprecated and will be removed in a future version. Convert inf values to NaN before operating instead.\n",
      "  with pd.option_context('mode.use_inf_as_na', True):\n"
     ]
    },
    {
     "data": {
      "image/png": "[encoded data removed]",
      "text/plain": [
       "<Figure size 640x480 with 1 Axes>"
      ]
     },
     "metadata": {},
     "output_type": "display_data"
    }
   ],
   "source": [
    "import matplotlib.pyplot as plt\n",
    "import seaborn as sns\n",
    "\n",
    "sns.histplot(x='Pclass', hue='Survived', data=df, multiple='stack')\n",
    "plt.show()"
   ]
  },
  {
   "cell_type": "markdown",
   "metadata": {},
   "source": [
    "### Process the feature 'SibSp' (number of siblings, husbands, wives)\n",
    "\n",
    "Are there any missing values in `SibSp`?"
   ]
  },
  {
   "cell_type": "code",
   "execution_count": 137,
   "metadata": {},
   "outputs": [
    {
     "name": "stdout",
     "output_type": "stream",
     "text": [
      "Number of missing values in the \"SibSp\" column: 5\n"
     ]
    }
   ],
   "source": [
    "import pandas as pd\n",
    "\n",
    "df = pd.read_csv('titanic.csv')\n",
    "\n",
    "# Check if there are any missing values in the 'SibSp' column\n",
    "sibsp_missing = df['SibSp'].isnull().sum()\n",
    "\n",
    "# Print the number of missing values in the 'SibSp' column\n",
    "print(f'Number of missing values in the \"SibSp\" column: {sibsp_missing}')\n",
    "\n",
    "median_sibsp = df['SibSp'].median()\n",
    "df['SibSp'] = df['SibSp'].fillna(median_sibsp) "
   ]
  },
  {
   "cell_type": "markdown",
   "metadata": {},
   "source": [
    "### Task 9\n",
    "The `PassengerId` column is categorical and does not carry important information, delete it."
   ]
  },
  {
   "cell_type": "code",
   "execution_count": 138,
   "metadata": {},
   "outputs": [],
   "source": [
    "df = df.drop('PassengerId', axis=1)"
   ]
  }
 ],
 "metadata": {
  "kernelspec": {
   "display_name": "Python 3 (ipykernel)",
   "language": "python",
   "name": "python3"
  },
  "language_info": {
   "codemirror_mode": {
    "name": "ipython",
    "version": 3
   },
   "file_extension": ".py",
   "mimetype": "text/x-python",
   "name": "python",
   "nbconvert_exporter": "python",
   "pygments_lexer": "ipython3",
   "version": "3.11.7"
  }
 },
 "nbformat": 4,
 "nbformat_minor": 2
}
