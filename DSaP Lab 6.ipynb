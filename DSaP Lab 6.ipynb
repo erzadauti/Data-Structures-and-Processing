{
 "cells": [
  {
   "cell_type": "markdown",
   "id": "9578795f-723e-46cc-b7f4-faed37e6858e",
   "metadata": {},
   "source": [
    "# Data Structures and Processing\n",
    "\n",
    "## Week 8: Data Wrangling with Pandas"
   ]
  },
  {
   "cell_type": "markdown",
   "id": "e8b4d83d-aafa-4503-822b-25a9e318163f",
   "metadata": {
    "tags": []
   },
   "source": [
    "### Remarks:\n",
    "\n",
    "1. Press the `install requirements` button above to install the required packages.  See the `requirements.txt` for list of packages to be installed.\n",
    "\n",
    "2. Make sure that you are following the conventions.  For examples, `import pandas as pd`, which imports pandas packages and sets the abbreviation for it.\n",
    "\n",
    "3. Do not import the packages without the short names.  Doing so might lead to a namespace conflict, or unintended uses of functions coming from two libraries as a part of different implementations.\n",
    "\n",
    "4. We are assigning `None` to variables and use `pass` in the body of the functions, where we expect a solution from you.  Please replace these values and statements with your solution."
   ]
  },
  {
   "cell_type": "markdown",
   "id": "0c1d9d69-0a50-4804-93e5-113136c827ce",
   "metadata": {},
   "source": [
    "The exercises in this notebook are aligned with the material provided for the lecture."
   ]
  },
  {
   "cell_type": "markdown",
   "id": "b1aa9048-bfc7-4ee0-af22-fb0d78606569",
   "metadata": {},
   "source": [
    "### Load Libraries"
   ]
  },
  {
   "cell_type": "code",
   "execution_count": 11,
   "id": "2512a105-8759-4def-90bd-37977472539a",
   "metadata": {
    "tags": []
   },
   "outputs": [],
   "source": [
    "import numpy as np\n",
    "import pandas as pd"
   ]
  },
  {
   "cell_type": "markdown",
   "id": "e751bfb2-5db5-46d5-bd13-723193262db9",
   "metadata": {},
   "source": [
    "## MultiIndex\n"
   ]
  },
  {
   "cell_type": "markdown",
   "id": "ced24119-c44a-4e5d-b468-2e6a46103ef0",
   "metadata": {},
   "source": [
    "### Task 1\n",
    "\n",
    "Consider the `json` file named `entertain.json`(attached) and read it into a variable `df1` using the function `pd.read_json`."
   ]
  },
  {
   "cell_type": "code",
   "execution_count": 12,
   "id": "59d21efa-49bb-4360-ab8e-78edc62a5e0a",
   "metadata": {},
   "outputs": [
    {
     "name": "stdout",
     "output_type": "stream",
     "text": [
      "   stars                     title rating  duration  \\\n",
      "0    7.5                 Quiz Show  PG-13       133   \n",
      "1    7.6                    Batman  PG-13       126   \n",
      "2    8.2   The Wolf of Wall Street      R       180   \n",
      "3    8.1                      Jaws     PG       124   \n",
      "4    7.8             Belle de Jour    NaN       101   \n",
      "5    7.8        As Good as It Gets  PG-13       139   \n",
      "6    8.4               Toy Story 3      G       103   \n",
      "7    7.4  Manhattan Murder Mystery     PG       104   \n",
      "\n",
      "                                            actors      genre  \n",
      "0       [Ralph Fiennes, John Turturro, Rob Morrow]        NaN  \n",
      "1   [Michael Keaton, Jack Nicholson, Kim Basinger]     Action  \n",
      "2   [Leonardo DiCaprio, Jonah Hill, Margot Robbie]  Biography  \n",
      "3    [Roy Scheider, Robert Shaw, Richard Dreyfuss]      Drama  \n",
      "4  [Catherine Deneuve, Jean Sorel, Michel Piccoli]      Drama  \n",
      "5       [Jack Nicholson, Helen Hunt, Greg Kinnear]     Comedy  \n",
      "6              [Tom Hanks, Tim Allen, Joan Cusack]  Animation  \n",
      "7         [Woody Allen, Diane Keaton, Jerry Adler]     Comedy  \n"
     ]
    }
   ],
   "source": [
    "import pandas as pd\n",
    "\n",
    "df1 = pd.read_json('entertain.json')\n",
    "\n",
    "print(df1)"
   ]
  },
  {
   "cell_type": "code",
   "execution_count": 13,
   "id": "30355055",
   "metadata": {},
   "outputs": [],
   "source": [
    "assert df1.shape == (8, 6)"
   ]
  },
  {
   "cell_type": "markdown",
   "id": "51dbb8e8-81fd-4d49-9d4e-31502222b952",
   "metadata": {},
   "source": [
    "### Task 2\n",
    "\n",
    "We want to change the index of the imported `DataFrame`. More specifically, we would like to have two indexes.  The two indexes come from the columns named `\"rating\"` and `\"stars\"`.\n",
    "\n",
    "Define a new `DataFrame` by the name `df2` where `\"rating\"`and `\"stars\"` are indexes."
   ]
  },
  {
   "cell_type": "code",
   "execution_count": 14,
   "id": "c3105940-0c09-49e1-a5e0-55fc25aee127",
   "metadata": {},
   "outputs": [
    {
     "name": "stdout",
     "output_type": "stream",
     "text": [
      "                                 title  duration  \\\n",
      "rating stars                                       \n",
      "PG-13  7.5                   Quiz Show       133   \n",
      "       7.6                      Batman       126   \n",
      "R      8.2     The Wolf of Wall Street       180   \n",
      "PG     8.1                        Jaws       124   \n",
      "NaN    7.8               Belle de Jour       101   \n",
      "PG-13  7.8          As Good as It Gets       139   \n",
      "G      8.4                 Toy Story 3       103   \n",
      "PG     7.4    Manhattan Murder Mystery       104   \n",
      "\n",
      "                                                       actors      genre  \n",
      "rating stars                                                              \n",
      "PG-13  7.5         [Ralph Fiennes, John Turturro, Rob Morrow]        NaN  \n",
      "       7.6     [Michael Keaton, Jack Nicholson, Kim Basinger]     Action  \n",
      "R      8.2     [Leonardo DiCaprio, Jonah Hill, Margot Robbie]  Biography  \n",
      "PG     8.1      [Roy Scheider, Robert Shaw, Richard Dreyfuss]      Drama  \n",
      "NaN    7.8    [Catherine Deneuve, Jean Sorel, Michel Piccoli]      Drama  \n",
      "PG-13  7.8         [Jack Nicholson, Helen Hunt, Greg Kinnear]     Comedy  \n",
      "G      8.4                [Tom Hanks, Tim Allen, Joan Cusack]  Animation  \n",
      "PG     7.4           [Woody Allen, Diane Keaton, Jerry Adler]     Comedy  \n"
     ]
    }
   ],
   "source": [
    "df2 = df1.set_index(['rating', 'stars'])\n",
    "print(df2)"
   ]
  },
  {
   "cell_type": "code",
   "execution_count": 15,
   "id": "abe7b7c7",
   "metadata": {},
   "outputs": [],
   "source": [
    "assert df2.index[0] == ('PG-13', 7.5)"
   ]
  },
  {
   "cell_type": "markdown",
   "id": "49e7c316-a2fe-4a27-9cd0-5db6516642a1",
   "metadata": {},
   "source": [
    "### Task 3\n",
    "\n",
    "In the `DataFrame` named `df2`, defined above, we have two indexes: `\"rating\"` and `\"stars\"`, and *in this order*.  We want to change\n",
    "\n",
    "1. their order so that `\"stars\"` is the first index and `\"ratings\"` is the second one. You might want to use `swaplevel`.\n",
    "2. their case, i.e., make names of index columns upcase.\n",
    "\n",
    "Define a new `DataFrame` by the name `df3`, which is the same as `df2`, except that the indexes are swapped and they are in upcase form."
   ]
  },
  {
   "cell_type": "code",
   "execution_count": 16,
   "id": "da147490-fae4-4c03-a7cb-3fb0c0b78ddf",
   "metadata": {},
   "outputs": [
    {
     "name": "stdout",
     "output_type": "stream",
     "text": [
      "                                 title  duration  \\\n",
      "STARS RATING                                       \n",
      "7.5   PG-13                  Quiz Show       133   \n",
      "7.6   PG-13                     Batman       126   \n",
      "8.2   R        The Wolf of Wall Street       180   \n",
      "8.1   PG                          Jaws       124   \n",
      "7.8   NaN                Belle de Jour       101   \n",
      "      PG-13         As Good as It Gets       139   \n",
      "8.4   G                    Toy Story 3       103   \n",
      "7.4   PG      Manhattan Murder Mystery       104   \n",
      "\n",
      "                                                       actors      genre  \n",
      "STARS RATING                                                              \n",
      "7.5   PG-13        [Ralph Fiennes, John Turturro, Rob Morrow]        NaN  \n",
      "7.6   PG-13    [Michael Keaton, Jack Nicholson, Kim Basinger]     Action  \n",
      "8.2   R        [Leonardo DiCaprio, Jonah Hill, Margot Robbie]  Biography  \n",
      "8.1   PG        [Roy Scheider, Robert Shaw, Richard Dreyfuss]      Drama  \n",
      "7.8   NaN     [Catherine Deneuve, Jean Sorel, Michel Piccoli]      Drama  \n",
      "      PG-13        [Jack Nicholson, Helen Hunt, Greg Kinnear]     Comedy  \n",
      "8.4   G                   [Tom Hanks, Tim Allen, Joan Cusack]  Animation  \n",
      "7.4   PG             [Woody Allen, Diane Keaton, Jerry Adler]     Comedy  \n"
     ]
    }
   ],
   "source": [
    "df3 = df2.swaplevel(0, 1, axis=0).rename_axis(index={'rating': 'RATING', 'stars': 'STARS'})\n",
    "print(df3)"
   ]
  },
  {
   "cell_type": "code",
   "execution_count": 17,
   "id": "31625872",
   "metadata": {},
   "outputs": [],
   "source": [
    "assert df3.index.names == ['STARS', 'RATING']"
   ]
  },
  {
   "cell_type": "markdown",
   "id": "ab359708-3e86-4be5-9fb9-0daa8cf3f3f1",
   "metadata": {},
   "source": [
    "### Task 4\n",
    "\n",
    "We have now data with two indexes. Let us say that we do not need this indexing, and furthermore, we would like to recover the data to a form where it was as it was imported into a `DataFrame`.  There are three ways to do it:\n",
    "\n",
    "1. One is to keep the data stored in a separate variable and define a new variable with the new indexes.  This might lead to a memory problem, when huge data is read into a `DataFrame`.\n",
    "\n",
    "2. Reread the data from the file into the desired variable again.\n",
    "\n",
    "3. Use the builtin function for reseting indexing in `pandas`.\n",
    "\n",
    "Use the third method above to reset index of the data stored in `df3` and put it in variable `df4` (we do not desire to modify the existing variable)."
   ]
  },
  {
   "cell_type": "code",
   "execution_count": 18,
   "id": "e84ab6fd-78c5-447f-91ba-43f8a2f6cf39",
   "metadata": {},
   "outputs": [
    {
     "name": "stdout",
     "output_type": "stream",
     "text": [
      "   STARS RATING                     title  duration  \\\n",
      "0    7.5  PG-13                 Quiz Show       133   \n",
      "1    7.6  PG-13                    Batman       126   \n",
      "2    8.2      R   The Wolf of Wall Street       180   \n",
      "3    8.1     PG                      Jaws       124   \n",
      "4    7.8    NaN             Belle de Jour       101   \n",
      "5    7.8  PG-13        As Good as It Gets       139   \n",
      "6    8.4      G               Toy Story 3       103   \n",
      "7    7.4     PG  Manhattan Murder Mystery       104   \n",
      "\n",
      "                                            actors      genre  \n",
      "0       [Ralph Fiennes, John Turturro, Rob Morrow]        NaN  \n",
      "1   [Michael Keaton, Jack Nicholson, Kim Basinger]     Action  \n",
      "2   [Leonardo DiCaprio, Jonah Hill, Margot Robbie]  Biography  \n",
      "3    [Roy Scheider, Robert Shaw, Richard Dreyfuss]      Drama  \n",
      "4  [Catherine Deneuve, Jean Sorel, Michel Piccoli]      Drama  \n",
      "5       [Jack Nicholson, Helen Hunt, Greg Kinnear]     Comedy  \n",
      "6              [Tom Hanks, Tim Allen, Joan Cusack]  Animation  \n",
      "7         [Woody Allen, Diane Keaton, Jerry Adler]     Comedy  \n"
     ]
    }
   ],
   "source": [
    "df4 = df3.reset_index()\n",
    "print(df4)"
   ]
  },
  {
   "cell_type": "code",
   "execution_count": 19,
   "id": "9e54fb62-fe1e-4b68-8430-272893ad3da5",
   "metadata": {},
   "outputs": [],
   "source": [
    "assert len(df4.columns) == 6"
   ]
  },
  {
   "cell_type": "markdown",
   "id": "df1c5c2c-a4c0-4bda-b2de-b2494628aa25",
   "metadata": {},
   "source": [
    "### Task 5\n",
    "\n",
    "Recall from the beginning of this set of exercises that we have imported data from a `json` file.  The data that is in hierarchical form is usually stored in this format.  There are other ways to store such data too, for example as an `xml` format, to name only another one beside `json`.  You might have noticed as we have imported the data that it was presented in a tabular format, and it was done by assigning some `NaN` value to some of the entries, because the corresponding values were missing.  For example, the `\"Quiz Show\"` has `\"genre\"` `NaN`.  Compare it with the json file, where `\"Quiz Show\"`, does not have any value for `\"genre\"`.\n",
    "\n",
    "Recall that in `pandas`, tabular data can be converted into a hierarchical data using the `stack()` method.\n",
    "\n",
    "Create a new `DataFrame`, called `df5`, from `df3` and use the method `stack()` to present it in hierarchical form."
   ]
  },
  {
   "cell_type": "code",
   "execution_count": 23,
   "id": "99da9a55-d4d4-4905-9fb6-e2377cd66bac",
   "metadata": {},
   "outputs": [
    {
     "name": "stdout",
     "output_type": "stream",
     "text": [
      "STARS  RATING          \n",
      "7.5    PG-13   title                                             Quiz Show\n",
      "               duration                                                133\n",
      "               actors           [Ralph Fiennes, John Turturro, Rob Morrow]\n",
      "7.6    PG-13   title                                                Batman\n",
      "               duration                                                126\n",
      "               actors       [Michael Keaton, Jack Nicholson, Kim Basinger]\n",
      "               genre                                                Action\n",
      "8.2    R       title                               The Wolf of Wall Street\n",
      "               duration                                                180\n",
      "               actors       [Leonardo DiCaprio, Jonah Hill, Margot Robbie]\n",
      "               genre                                             Biography\n",
      "8.1    PG      title                                                  Jaws\n",
      "               duration                                                124\n",
      "               actors        [Roy Scheider, Robert Shaw, Richard Dreyfuss]\n",
      "               genre                                                 Drama\n",
      "7.8    NaN     title                                         Belle de Jour\n",
      "               duration                                                101\n",
      "               actors      [Catherine Deneuve, Jean Sorel, Michel Piccoli]\n",
      "               genre                                                 Drama\n",
      "       PG-13   title                                    As Good as It Gets\n",
      "               duration                                                139\n",
      "               actors           [Jack Nicholson, Helen Hunt, Greg Kinnear]\n",
      "               genre                                                Comedy\n",
      "8.4    G       title                                           Toy Story 3\n",
      "               duration                                                103\n",
      "               actors                  [Tom Hanks, Tim Allen, Joan Cusack]\n",
      "               genre                                             Animation\n",
      "7.4    PG      title                              Manhattan Murder Mystery\n",
      "               duration                                                104\n",
      "               actors             [Woody Allen, Diane Keaton, Jerry Adler]\n",
      "               genre                                                Comedy\n",
      "dtype: object\n"
     ]
    }
   ],
   "source": [
    "df5 = df3.stack()\n",
    "\n",
    "print(df5)"
   ]
  },
  {
   "cell_type": "code",
   "execution_count": 24,
   "id": "ae43fadc-146b-4edd-a585-eef99710c26e",
   "metadata": {},
   "outputs": [],
   "source": [
    "assert df5.index[0] == (7.5, 'PG-13', 'title')"
   ]
  },
  {
   "cell_type": "markdown",
   "id": "f477cef0-cbdb-40e4-bc2f-79f3ca64ab2c",
   "metadata": {},
   "source": [
    "### Task 6\n",
    "\n",
    "Consider the hierarchical `DataFrame` `df5`, and filter it down to all the entries with `\"rating\"` `\"PG-13\"`.  Store the result in the variable `df6`."
   ]
  },
  {
   "cell_type": "code",
   "execution_count": 56,
   "id": "b03ce08a-9db5-4bf3-b808-6963067ca5cf",
   "metadata": {},
   "outputs": [],
   "source": [
    "df6 = df5[df5.index.get_level_values(1) == \"PG-13\"]"
   ]
  },
  {
   "cell_type": "code",
   "execution_count": 57,
   "id": "52ba3df1",
   "metadata": {},
   "outputs": [],
   "source": [
    "assert len(df6) == 11"
   ]
  },
  {
   "cell_type": "markdown",
   "id": "402f7784-4b30-433c-9069-2bb2e33fbb62",
   "metadata": {},
   "source": [
    "### Task 7\n",
    "\n",
    "Let us consider a case, where we are given two `DataFrame`s with `MultiIndex`, we would like to merge them using a column as a reference.  There are several different functions available in `pandas` for such a purpose.\n",
    "\n",
    "Let us define two variable `df71` and `df72`.  These `DataFrame`s help us demonstrate what is stated above.  In practice, the two `DataFrame`s may come from different sources unlike how we have defined them.\n",
    "\n",
    "Define a variable `df7`, which contains a merge of `df71` and `df72` on the column `\"title\"`.  Make sure that the returned table has the `MultiIndex` inherited and it is not stripped away. You can do in by resetting index and setting it back after merge or by using `combine_first` function."
   ]
  },
  {
   "cell_type": "code",
   "execution_count": 48,
   "id": "4cb24d52-daef-420b-84c8-608df97cf04d",
   "metadata": {},
   "outputs": [
    {
     "name": "stdout",
     "output_type": "stream",
     "text": [
      "              duration      genre                     title\n",
      "rating stars                                               \n",
      "PG-13  7.5         133        NaN                 Quiz Show\n",
      "       7.6         126     Action                    Batman\n",
      "R      8.2         180  Biography   The Wolf of Wall Street\n",
      "PG     8.1         124      Drama                      Jaws\n",
      "NaN    7.8         101      Drama             Belle de Jour\n",
      "PG-13  7.8         139     Comedy        As Good as It Gets\n",
      "G      8.4         103  Animation               Toy Story 3\n",
      "PG     7.4         104     Comedy  Manhattan Murder Mystery\n"
     ]
    }
   ],
   "source": [
    "# Your solution goes here\n",
    "df71 = df2[[\"title\", \"duration\"]]\n",
    "df72 = df2[[\"genre\", \"title\"]]\n",
    "\n",
    "df7 = df71.combine_first(df72)\n",
    "print(df7)"
   ]
  },
  {
   "cell_type": "code",
   "execution_count": 49,
   "id": "bf52222d",
   "metadata": {},
   "outputs": [],
   "source": [
    "assert df7.index.names == ['rating', 'stars']\n",
    "assert df7.shape == (8, 3)"
   ]
  },
  {
   "cell_type": "markdown",
   "id": "2e5462d5-80cc-440a-aace-6f3b4f5b9629",
   "metadata": {},
   "source": [
    "### Task 8 (Bonus)\n",
    "\n",
    "Consider the file `taxi.csv` in the attachment. Your task is to follow the discussion in the section \"Reshaping and Pivoting\", using the data in this file.\n",
    "\n",
    "Explain what goes wrong. You could write your remarks as comments or in new blocks."
   ]
  },
  {
   "cell_type": "code",
   "execution_count": 60,
   "id": "336b8a31-7744-4f8b-ac85-36e6b751aad9",
   "metadata": {},
   "outputs": [
    {
     "ename": "ValueError",
     "evalue": "Index contains duplicate entries, cannot reshape",
     "output_type": "error",
     "traceback": [
      "\u001b[0;31m---------------------------------------------------------------------------\u001b[0m",
      "\u001b[0;31mValueError\u001b[0m                                Traceback (most recent call last)",
      "Cell \u001b[0;32mIn[60], line 1\u001b[0m\n\u001b[0;32m----> 1\u001b[0m pivoted_df \u001b[38;5;241m=\u001b[39m df\u001b[38;5;241m.\u001b[39mpivot(index\u001b[38;5;241m=\u001b[39m\u001b[38;5;124m\"\u001b[39m\u001b[38;5;124mpickup_datetime\u001b[39m\u001b[38;5;124m\"\u001b[39m, columns\u001b[38;5;241m=\u001b[39m\u001b[38;5;124m\"\u001b[39m\u001b[38;5;124mpassenger_count\u001b[39m\u001b[38;5;124m\"\u001b[39m, values\u001b[38;5;241m=\u001b[39m\u001b[38;5;124m\"\u001b[39m\u001b[38;5;124mtrip_distance\u001b[39m\u001b[38;5;124m\"\u001b[39m)\n\u001b[1;32m      2\u001b[0m pivoted_df \u001b[38;5;241m=\u001b[39m df\u001b[38;5;241m.\u001b[39mpivot(index\u001b[38;5;241m=\u001b[39m\u001b[38;5;124m\"\u001b[39m\u001b[38;5;124mpickup_datetime\u001b[39m\u001b[38;5;124m\"\u001b[39m, columns\u001b[38;5;241m=\u001b[39m\u001b[38;5;124m\"\u001b[39m\u001b[38;5;124mpassenger_count\u001b[39m\u001b[38;5;124m\"\u001b[39m, values\u001b[38;5;241m=\u001b[39m\u001b[38;5;124m\"\u001b[39m\u001b[38;5;124mtrip_distance\u001b[39m\u001b[38;5;124m\"\u001b[39m)\n",
      "File \u001b[0;32m/opt/anaconda3/lib/python3.11/site-packages/pandas/core/frame.py:9025\u001b[0m, in \u001b[0;36mDataFrame.pivot\u001b[0;34m(self, columns, index, values)\u001b[0m\n\u001b[1;32m   9018\u001b[0m \u001b[38;5;129m@Substitution\u001b[39m(\u001b[38;5;124m\"\u001b[39m\u001b[38;5;124m\"\u001b[39m)\n\u001b[1;32m   9019\u001b[0m \u001b[38;5;129m@Appender\u001b[39m(_shared_docs[\u001b[38;5;124m\"\u001b[39m\u001b[38;5;124mpivot\u001b[39m\u001b[38;5;124m\"\u001b[39m])\n\u001b[1;32m   9020\u001b[0m \u001b[38;5;28;01mdef\u001b[39;00m \u001b[38;5;21mpivot\u001b[39m(\n\u001b[1;32m   9021\u001b[0m     \u001b[38;5;28mself\u001b[39m, \u001b[38;5;241m*\u001b[39m, columns, index\u001b[38;5;241m=\u001b[39mlib\u001b[38;5;241m.\u001b[39mno_default, values\u001b[38;5;241m=\u001b[39mlib\u001b[38;5;241m.\u001b[39mno_default\n\u001b[1;32m   9022\u001b[0m ) \u001b[38;5;241m-\u001b[39m\u001b[38;5;241m>\u001b[39m DataFrame:\n\u001b[1;32m   9023\u001b[0m     \u001b[38;5;28;01mfrom\u001b[39;00m \u001b[38;5;21;01mpandas\u001b[39;00m\u001b[38;5;21;01m.\u001b[39;00m\u001b[38;5;21;01mcore\u001b[39;00m\u001b[38;5;21;01m.\u001b[39;00m\u001b[38;5;21;01mreshape\u001b[39;00m\u001b[38;5;21;01m.\u001b[39;00m\u001b[38;5;21;01mpivot\u001b[39;00m \u001b[38;5;28;01mimport\u001b[39;00m pivot\n\u001b[0;32m-> 9025\u001b[0m     \u001b[38;5;28;01mreturn\u001b[39;00m pivot(\u001b[38;5;28mself\u001b[39m, index\u001b[38;5;241m=\u001b[39mindex, columns\u001b[38;5;241m=\u001b[39mcolumns, values\u001b[38;5;241m=\u001b[39mvalues)\n",
      "File \u001b[0;32m/opt/anaconda3/lib/python3.11/site-packages/pandas/core/reshape/pivot.py:553\u001b[0m, in \u001b[0;36mpivot\u001b[0;34m(data, columns, index, values)\u001b[0m\n\u001b[1;32m    549\u001b[0m         indexed \u001b[38;5;241m=\u001b[39m data\u001b[38;5;241m.\u001b[39m_constructor_sliced(data[values]\u001b[38;5;241m.\u001b[39m_values, index\u001b[38;5;241m=\u001b[39mmultiindex)\n\u001b[1;32m    550\u001b[0m \u001b[38;5;66;03m# error: Argument 1 to \"unstack\" of \"DataFrame\" has incompatible type \"Union\u001b[39;00m\n\u001b[1;32m    551\u001b[0m \u001b[38;5;66;03m# [List[Any], ExtensionArray, ndarray[Any, Any], Index, Series]\"; expected\u001b[39;00m\n\u001b[1;32m    552\u001b[0m \u001b[38;5;66;03m# \"Hashable\"\u001b[39;00m\n\u001b[0;32m--> 553\u001b[0m result \u001b[38;5;241m=\u001b[39m indexed\u001b[38;5;241m.\u001b[39munstack(columns_listlike)  \u001b[38;5;66;03m# type: ignore[arg-type]\u001b[39;00m\n\u001b[1;32m    554\u001b[0m result\u001b[38;5;241m.\u001b[39mindex\u001b[38;5;241m.\u001b[39mnames \u001b[38;5;241m=\u001b[39m [\n\u001b[1;32m    555\u001b[0m     name \u001b[38;5;28;01mif\u001b[39;00m name \u001b[38;5;129;01mis\u001b[39;00m \u001b[38;5;129;01mnot\u001b[39;00m lib\u001b[38;5;241m.\u001b[39mno_default \u001b[38;5;28;01melse\u001b[39;00m \u001b[38;5;28;01mNone\u001b[39;00m \u001b[38;5;28;01mfor\u001b[39;00m name \u001b[38;5;129;01min\u001b[39;00m result\u001b[38;5;241m.\u001b[39mindex\u001b[38;5;241m.\u001b[39mnames\n\u001b[1;32m    556\u001b[0m ]\n\u001b[1;32m    558\u001b[0m \u001b[38;5;28;01mreturn\u001b[39;00m result\n",
      "File \u001b[0;32m/opt/anaconda3/lib/python3.11/site-packages/pandas/core/series.py:4459\u001b[0m, in \u001b[0;36mSeries.unstack\u001b[0;34m(self, level, fill_value, sort)\u001b[0m\n\u001b[1;32m   4414\u001b[0m \u001b[38;5;250m\u001b[39m\u001b[38;5;124;03m\"\"\"\u001b[39;00m\n\u001b[1;32m   4415\u001b[0m \u001b[38;5;124;03mUnstack, also known as pivot, Series with MultiIndex to produce DataFrame.\u001b[39;00m\n\u001b[1;32m   4416\u001b[0m \n\u001b[0;32m   (...)\u001b[0m\n\u001b[1;32m   4455\u001b[0m \u001b[38;5;124;03mb    2    4\u001b[39;00m\n\u001b[1;32m   4456\u001b[0m \u001b[38;5;124;03m\"\"\"\u001b[39;00m\n\u001b[1;32m   4457\u001b[0m \u001b[38;5;28;01mfrom\u001b[39;00m \u001b[38;5;21;01mpandas\u001b[39;00m\u001b[38;5;21;01m.\u001b[39;00m\u001b[38;5;21;01mcore\u001b[39;00m\u001b[38;5;21;01m.\u001b[39;00m\u001b[38;5;21;01mreshape\u001b[39;00m\u001b[38;5;21;01m.\u001b[39;00m\u001b[38;5;21;01mreshape\u001b[39;00m \u001b[38;5;28;01mimport\u001b[39;00m unstack\n\u001b[0;32m-> 4459\u001b[0m \u001b[38;5;28;01mreturn\u001b[39;00m unstack(\u001b[38;5;28mself\u001b[39m, level, fill_value, sort)\n",
      "File \u001b[0;32m/opt/anaconda3/lib/python3.11/site-packages/pandas/core/reshape/reshape.py:517\u001b[0m, in \u001b[0;36munstack\u001b[0;34m(obj, level, fill_value, sort)\u001b[0m\n\u001b[1;32m    515\u001b[0m \u001b[38;5;28;01mif\u001b[39;00m is_1d_only_ea_dtype(obj\u001b[38;5;241m.\u001b[39mdtype):\n\u001b[1;32m    516\u001b[0m     \u001b[38;5;28;01mreturn\u001b[39;00m _unstack_extension_series(obj, level, fill_value, sort\u001b[38;5;241m=\u001b[39msort)\n\u001b[0;32m--> 517\u001b[0m unstacker \u001b[38;5;241m=\u001b[39m _Unstacker(\n\u001b[1;32m    518\u001b[0m     obj\u001b[38;5;241m.\u001b[39mindex, level\u001b[38;5;241m=\u001b[39mlevel, constructor\u001b[38;5;241m=\u001b[39mobj\u001b[38;5;241m.\u001b[39m_constructor_expanddim, sort\u001b[38;5;241m=\u001b[39msort\n\u001b[1;32m    519\u001b[0m )\n\u001b[1;32m    520\u001b[0m \u001b[38;5;28;01mreturn\u001b[39;00m unstacker\u001b[38;5;241m.\u001b[39mget_result(\n\u001b[1;32m    521\u001b[0m     obj\u001b[38;5;241m.\u001b[39m_values, value_columns\u001b[38;5;241m=\u001b[39m\u001b[38;5;28;01mNone\u001b[39;00m, fill_value\u001b[38;5;241m=\u001b[39mfill_value\n\u001b[1;32m    522\u001b[0m )\n",
      "File \u001b[0;32m/opt/anaconda3/lib/python3.11/site-packages/pandas/core/reshape/reshape.py:154\u001b[0m, in \u001b[0;36m_Unstacker.__init__\u001b[0;34m(self, index, level, constructor, sort)\u001b[0m\n\u001b[1;32m    146\u001b[0m \u001b[38;5;28;01mif\u001b[39;00m num_cells \u001b[38;5;241m>\u001b[39m np\u001b[38;5;241m.\u001b[39miinfo(np\u001b[38;5;241m.\u001b[39mint32)\u001b[38;5;241m.\u001b[39mmax:\n\u001b[1;32m    147\u001b[0m     warnings\u001b[38;5;241m.\u001b[39mwarn(\n\u001b[1;32m    148\u001b[0m         \u001b[38;5;124mf\u001b[39m\u001b[38;5;124m\"\u001b[39m\u001b[38;5;124mThe following operation may generate \u001b[39m\u001b[38;5;132;01m{\u001b[39;00mnum_cells\u001b[38;5;132;01m}\u001b[39;00m\u001b[38;5;124m cells \u001b[39m\u001b[38;5;124m\"\u001b[39m\n\u001b[1;32m    149\u001b[0m         \u001b[38;5;124mf\u001b[39m\u001b[38;5;124m\"\u001b[39m\u001b[38;5;124min the resulting pandas object.\u001b[39m\u001b[38;5;124m\"\u001b[39m,\n\u001b[1;32m    150\u001b[0m         PerformanceWarning,\n\u001b[1;32m    151\u001b[0m         stacklevel\u001b[38;5;241m=\u001b[39mfind_stack_level(),\n\u001b[1;32m    152\u001b[0m     )\n\u001b[0;32m--> 154\u001b[0m \u001b[38;5;28mself\u001b[39m\u001b[38;5;241m.\u001b[39m_make_selectors()\n",
      "File \u001b[0;32m/opt/anaconda3/lib/python3.11/site-packages/pandas/core/reshape/reshape.py:210\u001b[0m, in \u001b[0;36m_Unstacker._make_selectors\u001b[0;34m(self)\u001b[0m\n\u001b[1;32m    207\u001b[0m mask\u001b[38;5;241m.\u001b[39mput(selector, \u001b[38;5;28;01mTrue\u001b[39;00m)\n\u001b[1;32m    209\u001b[0m \u001b[38;5;28;01mif\u001b[39;00m mask\u001b[38;5;241m.\u001b[39msum() \u001b[38;5;241m<\u001b[39m \u001b[38;5;28mlen\u001b[39m(\u001b[38;5;28mself\u001b[39m\u001b[38;5;241m.\u001b[39mindex):\n\u001b[0;32m--> 210\u001b[0m     \u001b[38;5;28;01mraise\u001b[39;00m \u001b[38;5;167;01mValueError\u001b[39;00m(\u001b[38;5;124m\"\u001b[39m\u001b[38;5;124mIndex contains duplicate entries, cannot reshape\u001b[39m\u001b[38;5;124m\"\u001b[39m)\n\u001b[1;32m    212\u001b[0m \u001b[38;5;28mself\u001b[39m\u001b[38;5;241m.\u001b[39mgroup_index \u001b[38;5;241m=\u001b[39m comp_index\n\u001b[1;32m    213\u001b[0m \u001b[38;5;28mself\u001b[39m\u001b[38;5;241m.\u001b[39mmask \u001b[38;5;241m=\u001b[39m mask\n",
      "\u001b[0;31mValueError\u001b[0m: Index contains duplicate entries, cannot reshape"
     ]
    }
   ],
   "source": [
    "pivoted_df = df.pivot(index=\"pickup_datetime\", columns=\"passenger_count\", values=\"trip_distance\")\n",
    "pivoted_df = df.pivot(index=\"pickup_datetime\", columns=\"passenger_count\", values=\"trip_distance\")"
   ]
  },
  {
   "cell_type": "code",
   "execution_count": null,
   "id": "34e21519",
   "metadata": {},
   "outputs": [],
   "source": [
    "# In this example, we’ve used pickup_datetime as the index, passenger_count as the column, and trip_distance as the value.\n",
    "# The resulting DataFrame will have columns for each unique passenger count, \n",
    "# and the rows will correspond to different pickup dates."
   ]
  }
 ],
 "metadata": {
  "kernelspec": {
   "display_name": "Python 3 (ipykernel)",
   "language": "python",
   "name": "python3"
  },
  "language_info": {
   "codemirror_mode": {
    "name": "ipython",
    "version": 3
   },
   "file_extension": ".py",
   "mimetype": "text/x-python",
   "name": "python",
   "nbconvert_exporter": "python",
   "pygments_lexer": "ipython3",
   "version": "3.11.7"
  },
  "name": "week8.ipynb"
 },
 "nbformat": 4,
 "nbformat_minor": 5
}
